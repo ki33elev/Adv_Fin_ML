{
 "cells": [
  {
   "cell_type": "code",
   "execution_count": 2,
   "metadata": {},
   "outputs": [],
   "source": [
    "# imports\n",
    "\n",
    "import numpy as np\n",
    "import pandas as pd\n",
    "import matplotlib.pyplot as plt\n",
    "%matplotlib inline\n",
    "import seaborn as sns\n",
    "sns.set(palette='Set2')\n",
    "import plotly.graph_objects as go\n",
    "\n",
    "import scipy.stats as ss\n",
    "\n",
    "import warnings\n",
    "warnings.filterwarnings('ignore')\n",
    "\n",
    "import nbimporter"
   ]
  },
  {
   "cell_type": "markdown",
   "metadata": {},
   "source": [
    "## Auxilary Functions"
   ]
  },
  {
   "cell_type": "code",
   "execution_count": 3,
   "metadata": {},
   "outputs": [],
   "source": [
    "def estimate_SR(prob: float, sl: float, pt: float, freq: float, num_trials: int = 1000000) -> float:\n",
    "    '''\n",
    "    Estimates strategy's Sharpe ratio under given parameters.\n",
    "    \n",
    "        Parameters:\n",
    "            prob (float): precision of the strategy\n",
    "            sl (float): stop loss threshold\n",
    "            pt (float): profit taking threshold\n",
    "            freq (float): annual number of bets (to obtain annualized SR)\n",
    "            num_trial (int): number of trials used for estimation\n",
    "            \n",
    "        Returns:\n",
    "            sr (float): Sharpe ratio\n",
    "    '''\n",
    "    out = []\n",
    "    for i in range(num_trials):\n",
    "        rnd = np.random.binomial(n=1, p=prob)\n",
    "        if rnd == 1:\n",
    "            x = pt\n",
    "        else:\n",
    "            x = sl\n",
    "        out.append(x)\n",
    "    sr = np.mean(out) / np.std(out) * np.sqrt(freq)\n",
    "    return sr"
   ]
  },
  {
   "cell_type": "code",
   "execution_count": 4,
   "metadata": {},
   "outputs": [],
   "source": [
    "def bin_HR(sl: float, pt: float, freq: float, tSR: float) -> float:\n",
    "    '''\n",
    "    Returns minimum precision p needed to achieve target Sharpe ration under given parameters.\n",
    "    \n",
    "        Parameters:\n",
    "            sl (float): stop loss threshold\n",
    "            pt (float): profit taking threshold\n",
    "            freq (float): annual number of bets\n",
    "            tSR (float): target annual Sharpe ratio\n",
    "            \n",
    "        Returns:\n",
    "            p (float): precision\n",
    "    '''\n",
    "    a = (freq + tSR ** 2) * (pt - sl) ** 2\n",
    "    b = (2 * freq * sl - tSR ** 2 * (pt - sl)) * (pt - sl)\n",
    "    c = freq * sl ** 2\n",
    "    p = (-b + (b ** 2 - 4 * a * c) ** 0.5) / (2.0 * a)\n",
    "    return p"
   ]
  },
  {
   "cell_type": "code",
   "execution_count": 5,
   "metadata": {},
   "outputs": [],
   "source": [
    "def bin_freq(sl: float, pt: float, p: float, tSR: float) -> float:\n",
    "    '''\n",
    "    Returns minimum number of bets per year needed to achieve target Sharpe ration under given parameters.\n",
    "    \n",
    "        Parameters:\n",
    "            sl (float): stop loss threshold\n",
    "            pt (float): profit taking threshold\n",
    "            p (float): precision\n",
    "            tSR (float): target annual Sharpe ratio\n",
    "            \n",
    "        Returns:\n",
    "            freq (float): annual number of bets\n",
    "    '''\n",
    "    freq = (tSR * (pt - sl)) ** 2 * p * (1 - p) / ((pt - sl) * p + sl) ** 2\n",
    "    return freq"
   ]
  },
  {
   "cell_type": "code",
   "execution_count": 6,
   "metadata": {},
   "outputs": [],
   "source": [
    "def mix_gaussians(\n",
    "    mu1: float, mu2: float, sigma1: float, sigma2: float, prob1: float, nObs: int\n",
    ") -> np.ndarray:\n",
    "    '''\n",
    "    Generates random draws form a mixture of two Gaussians.\n",
    "    \n",
    "        Parameters:\n",
    "            mu1 (float): expectation of 1st Gaussian\n",
    "            mu2 (float): expectation of 2nd Gaussian\n",
    "            sigma1 (float): std of 1st Gaussian\n",
    "            sigma2 (float): std of 2nd Gaussian\n",
    "            prob1 (float): probability of generating from 1st Gaussian (i.e. weight of 1st Gaussian)\n",
    "            nObs (int): total number of draws\n",
    "            \n",
    "        Returns:\n",
    "            ret (np.ndarray): array with observations\n",
    "    '''\n",
    "    ret1 = np.random.normal(mu1, sigma1, size=int(nObs * prob1))\n",
    "    ret2 = np.random.normal(mu2, sigma2, size=nObs - ret1.shape[0])\n",
    "    ret = np.append(ret1, ret2, axis=0)\n",
    "    np.random.shuffle(ret)\n",
    "    return ret"
   ]
  },
  {
   "cell_type": "code",
   "execution_count": 7,
   "metadata": {},
   "outputs": [],
   "source": [
    "def prob_failure(ret: np.ndarray, freq: float, tSR: float):\n",
    "    '''\n",
    "    Derives probability that strategy has lower precision than needed.\n",
    "    \n",
    "        Parameters:\n",
    "            ret (np.ndarray): array with observations\n",
    "            freq (float): annual number of bets\n",
    "            tSR (float): target Sharpe ratio\n",
    "            \n",
    "        Returns:\n",
    "            risk (float): probability of failure\n",
    "    '''\n",
    "    rPos, rNeg = ret[ret > 0].mean(), ret[ret <= 0].mean()\n",
    "    p = ret[ret > 0].shape[0] / float(ret.shape[0])\n",
    "    thresP = bin_HR(rNeg, rPos, freq, tSR)\n",
    "    risk = ss.norm.cdf(thresP, p, p * (1 - p))    # approximation to bootstrap\n",
    "    return risk"
   ]
  },
  {
   "cell_type": "markdown",
   "metadata": {},
   "source": [
    "## Exercises"
   ]
  },
  {
   "cell_type": "markdown",
   "metadata": {},
   "source": [
    "### 1. Evaluating strategy."
   ]
  },
  {
   "cell_type": "markdown",
   "metadata": {},
   "source": [
    "**Q:** A portfolio manager intends to launch a strategy that targets an annualized SR of 2. Bets have a precision rate of 60%, with weekly frequency. The exit conditions are 2% for profit-taking, and –2% for stop-loss."
   ]
  },
  {
   "cell_type": "markdown",
   "metadata": {},
   "source": [
    "1. Is this strategy viable?"
   ]
  },
  {
   "cell_type": "code",
   "execution_count": 8,
   "metadata": {},
   "outputs": [
    {
     "name": "stdout",
     "output_type": "stream",
     "text": [
      "Estimated SR of the strategy: 1.4781562099865402\n"
     ]
    }
   ],
   "source": [
    "print(f'Estimated SR of the strategy: {estimate_SR(prob=0.6, pt=0.02, sl=-0.02, freq=52)}')"
   ]
  },
  {
   "cell_type": "markdown",
   "metadata": {},
   "source": [
    "We got a much lower SR that targeted."
   ]
  },
  {
   "cell_type": "markdown",
   "metadata": {},
   "source": [
    "2. What is the required precision rate that would make the strategy profitable?"
   ]
  },
  {
   "cell_type": "code",
   "execution_count": 9,
   "metadata": {},
   "outputs": [
    {
     "name": "stdout",
     "output_type": "stream",
     "text": [
      "Required precision: 0.634\n"
     ]
    }
   ],
   "source": [
    "print(f'Required precision: {\"{:.3f}\".format(bin_HR(sl=-0.02, pt=0.02, freq=52, tSR=2.0))}')"
   ]
  },
  {
   "cell_type": "markdown",
   "metadata": {},
   "source": [
    "3. For what betting frequency is the target achievable?"
   ]
  },
  {
   "cell_type": "code",
   "execution_count": 10,
   "metadata": {},
   "outputs": [
    {
     "name": "stdout",
     "output_type": "stream",
     "text": [
      "Required frequency: 96.0\n"
     ]
    }
   ],
   "source": [
    "print(f'Required frequency: {bin_freq(sl=-0.02, pt=0.02, p=0.6, tSR=2.0)}')"
   ]
  },
  {
   "cell_type": "markdown",
   "metadata": {},
   "source": [
    "4. For what profit-taking threshold is the target achievable?"
   ]
  },
  {
   "cell_type": "code",
   "execution_count": 11,
   "metadata": {},
   "outputs": [
    {
     "name": "stdout",
     "output_type": "stream",
     "text": [
      "Required profit taking threshold: 0.023\n"
     ]
    }
   ],
   "source": [
    "for pt in np.linspace(0.02, 0.03, 100):\n",
    "    if estimate_SR(prob=0.6, pt=pt, sl=-0.02, freq=52, num_trials=100000) >= 2.0:\n",
    "        break\n",
    "print(f'Required profit taking threshold: {\"{:.3f}\".format(pt)}')"
   ]
  },
  {
   "cell_type": "markdown",
   "metadata": {},
   "source": [
    "5. What would be an alternative stop-loss?"
   ]
  },
  {
   "cell_type": "code",
   "execution_count": 12,
   "metadata": {},
   "outputs": [
    {
     "name": "stdout",
     "output_type": "stream",
     "text": [
      "Required stop loss threshold: -0.017\n"
     ]
    }
   ],
   "source": [
    "for sl in np.linspace(0.02, 0.01, 100):\n",
    "    if estimate_SR(prob=0.6, pt=0.02, sl=-sl, freq=52, num_trials=100000) >= 2.0:\n",
    "        break\n",
    "print(f'Required stop loss threshold: {\"{:.3f}\".format(-sl)}')"
   ]
  },
  {
   "cell_type": "markdown",
   "metadata": {},
   "source": [
    "### 2. More Evaluation."
   ]
  },
  {
   "cell_type": "markdown",
   "metadata": {},
   "source": [
    "Here I assume that precision, frequency, and profit taking threshold are increased by 1%, and stop loss threshold is decreased by 1% in absolute value."
   ]
  },
  {
   "cell_type": "code",
   "execution_count": 13,
   "metadata": {},
   "outputs": [
    {
     "name": "stdout",
     "output_type": "stream",
     "text": [
      "SR sensitivity to 1% change in precision: 6.76%\n",
      "SR sensitivity to 1% change in frequency: 0.60%\n",
      "SR sensitivity to 1% change in profit taking: 3.19%\n",
      "SR sensitivity to 1% change in stop loss: 2.59%\n"
     ]
    }
   ],
   "source": [
    "old_sr = estimate_SR(prob=0.6, pt=0.02, sl=-0.02, freq=52)\n",
    "new_sr_prob = estimate_SR(prob=0.6 * 1.01, pt=0.02, sl=-0.02, freq=52)\n",
    "new_sr_freq = estimate_SR(prob=0.6, pt=0.02, sl=-0.02, freq=52 * 1.01)\n",
    "new_sr_pt = estimate_SR(prob=0.6, pt=0.02 * 1.01, sl=-0.02, freq=52)\n",
    "new_sr_sl = estimate_SR(prob=0.6, pt=0.02, sl=-0.02 * 0.99, freq=52)\n",
    "\n",
    "for parameter, new_sr in zip(['precision', 'frequency', 'profit taking', 'stop loss'],\n",
    "                             [new_sr_prob, new_sr_freq, new_sr_pt, new_sr_sl]):\n",
    "    print(f'SR sensitivity to 1% change in {parameter}: {\"{:.2f}\".format(100 * (new_sr / old_sr - 1))}%')"
   ]
  },
  {
   "cell_type": "markdown",
   "metadata": {},
   "source": [
    "It appears that SR is most sensitive to changes in precision."
   ]
  },
  {
   "cell_type": "markdown",
   "metadata": {},
   "source": [
    "### 3. Probability of Failure."
   ]
  },
  {
   "cell_type": "markdown",
   "metadata": {},
   "source": [
    "Here we compute the probability that the strategy has precision lower than necessary for achieving Sharpe ratio of 1."
   ]
  },
  {
   "cell_type": "code",
   "execution_count": 14,
   "metadata": {},
   "outputs": [
    {
     "name": "stdout",
     "output_type": "stream",
     "text": [
      "Probability of failure: 0.447\n"
     ]
    }
   ],
   "source": [
    "ret = []\n",
    "for i in range(1000000):\n",
    "    rnd = np.random.binomial(n=1, p=0.6)\n",
    "    if rnd == 1:\n",
    "        x = 0.02\n",
    "    else:\n",
    "        x = -0.02\n",
    "    ret.append(x)\n",
    "\n",
    "print(f'Probability of failure: {\"{:.3f}\".format(prob_failure(ret=np.array(ret), freq=52, tSR=1.0))}')"
   ]
  },
  {
   "cell_type": "markdown",
   "metadata": {},
   "source": [
    "We can also compute PSR introduced in Chapter 14:"
   ]
  },
  {
   "cell_type": "code",
   "execution_count": 15,
   "metadata": {},
   "outputs": [
    {
     "name": "stdout",
     "output_type": "stream",
     "text": [
      "Probability of achieving targeted SR: 0.0\n"
     ]
    }
   ],
   "source": [
    "skewness = ss.skew(ret)\n",
    "kurt = ss.kurtosis(ret)\n",
    "sr = np.mean(ret) / np.std(ret)\n",
    "val = (sr - 1.0) * np.sqrt(len(ret) - 1) / np.sqrt(1 - skewness * sr + (kurt - 1) / 4 * sr ** 2)\n",
    "psr = ss.norm.cdf(val)\n",
    "print(f'Probability of achieving targeted SR: {psr}')"
   ]
  }
 ],
 "metadata": {
  "kernelspec": {
   "display_name": "Python 3",
   "language": "python",
   "name": "python3"
  },
  "language_info": {
   "codemirror_mode": {
    "name": "ipython",
    "version": 3
   },
   "file_extension": ".py",
   "mimetype": "text/x-python",
   "name": "python",
   "nbconvert_exporter": "python",
   "pygments_lexer": "ipython3",
   "version": "3.7.6"
  }
 },
 "nbformat": 4,
 "nbformat_minor": 4
}
