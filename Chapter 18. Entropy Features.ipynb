{
 "cells": [
  {
   "cell_type": "code",
   "execution_count": 58,
   "metadata": {},
   "outputs": [],
   "source": [
    "# imports\n",
    "\n",
    "import numpy as np\n",
    "import pandas as pd\n",
    "import matplotlib.pyplot as plt\n",
    "%matplotlib inline\n",
    "import seaborn as sns\n",
    "sns.set(palette='Set2')\n",
    "import plotly.graph_objects as go\n",
    "\n",
    "from typing import Any, Tuple, Optional\n",
    "\n",
    "import warnings\n",
    "warnings.filterwarnings('ignore')\n",
    "\n",
    "import nbimporter\n",
    "from Functions import get_dollar_bars, get_returns"
   ]
  },
  {
   "cell_type": "markdown",
   "metadata": {},
   "source": [
    "## Auxilary Functions"
   ]
  },
  {
   "cell_type": "code",
   "execution_count": 59,
   "metadata": {},
   "outputs": [],
   "source": [
    "def pmf1(msg: Any, w: int) -> dict:\n",
    "    '''\n",
    "    Computes the probability mass function for a one-dim random variable (len(msg) - w occurences).\n",
    "    \n",
    "        Parameters:\n",
    "            msg (Any): sequence with observations (usually a string)\n",
    "            w (int): word length used for pmf estimation\n",
    "            \n",
    "        Returns:\n",
    "            pmf (dict): dictionary with words as keys and their estimated probabilities as values.\n",
    "    '''\n",
    "    lib = {}\n",
    "    if not isinstance(msg, str):\n",
    "        msg = ''.join(map(str, msg))\n",
    "    for i in range(w, len(msg)):\n",
    "        msg_ = msg[i - w: i]\n",
    "        if msg_ not in lib:\n",
    "            lib[msg_] = [i - w]\n",
    "        else:\n",
    "            lib[msg_] = lib[msg_] + [i - w]\n",
    "    length = float(len(msg) - w)\n",
    "    pmf = {i: len(lib[i]) / length for i in lib}\n",
    "    return pmf"
   ]
  },
  {
   "cell_type": "code",
   "execution_count": 60,
   "metadata": {},
   "outputs": [],
   "source": [
    "def plug_in(msg: Any, w: int) -> Tuple[float, dict]:\n",
    "    '''\n",
    "    Computes the maximum likelihood estimate for the entropy rate.\n",
    "\n",
    "        Parameters:\n",
    "            msg (Any): sequence with observations (usually a string)\n",
    "            w (int): word length used for pmf estimation\n",
    "\n",
    "        Returns:\n",
    "            out (float): entropy estimate\n",
    "            pmf (dict): dictionary with words as keys and their estimated probabilities as values.\n",
    "    '''\n",
    "    pmf = pmf1(msg, w)\n",
    "    out = -sum([pmf[i] * np.log2(pmf[i]) for i in pmf]) / w\n",
    "    return out, pmf"
   ]
  },
  {
   "cell_type": "code",
   "execution_count": 61,
   "metadata": {},
   "outputs": [],
   "source": [
    "def lempel_ziv_lib(msg: str) -> list:\n",
    "    '''\n",
    "    Implements the LZ algorithm to construct library.\n",
    "    \n",
    "        Parameters:\n",
    "            msg (str): sequence with observations\n",
    "            \n",
    "        Returns:\n",
    "            lib (list): list containing unique words\n",
    "    '''\n",
    "    i, lib = 1, [msg[0]]\n",
    "    while i < len(msg):\n",
    "        for j in range(i, len(msg)):\n",
    "            msg_ = msg[i: j + 1]\n",
    "            if msg_ not in lib:\n",
    "                lib.append(msg_)\n",
    "                break\n",
    "        i = j + 1\n",
    "    return lib"
   ]
  },
  {
   "cell_type": "code",
   "execution_count": 62,
   "metadata": {},
   "outputs": [],
   "source": [
    "def match_length(msg: str, i: int, n: int) -> Tuple[int, str]:\n",
    "    '''\n",
    "    Computes the length of the longest match.\n",
    "    \n",
    "        Parameters:\n",
    "            msg (str): sequence with observations\n",
    "            i (int): position before which we look for a match\n",
    "            n (int): size of the window for searching for a match\n",
    "            \n",
    "        Returns:\n",
    "            len(subS) + 1 (int): length of the match + 1\n",
    "            subS (str): matched substring\n",
    "    '''\n",
    "    subS = ''\n",
    "    for l in range(n):\n",
    "        msg1 = msg[i: i + 1 + l]\n",
    "        for j in range(i - n, i):\n",
    "            msg0 = msg[j: j + 1 + l]\n",
    "            if msg1 == msg0:\n",
    "                subS = msg1\n",
    "                break\n",
    "    return len(subS) + 1, subS"
   ]
  },
  {
   "cell_type": "code",
   "execution_count": 63,
   "metadata": {},
   "outputs": [],
   "source": [
    "def konto(msg: Any, window: Optional[int] = None) -> dict:\n",
    "    '''\n",
    "    Kontoyiannis' LZ entropy estimate, 2013 version (centered window). Inverse of the avg length of the shortest\n",
    "    non redundant substring. If non redundant substrings are short, the text is highly entropic.\n",
    "    window=None for expanding window , in which case len(msg)%2=0.\n",
    "    If the end of the message is more relevant, try conto(msg[::-1]).\n",
    "    \n",
    "        Parameters:\n",
    "            msg (Any): sequence with observations (usually a string)\n",
    "            window (Optional[int]): winodw size for constant window\n",
    "            \n",
    "        Returns:\n",
    "            out (dict): dictionary with results\n",
    "    '''\n",
    "    out = {'num': 0, 'sum': 0, 'subS': []}\n",
    "    if not isinstance(msg, str):\n",
    "        msg = ''.join(map(str, msg))\n",
    "    if window is None:\n",
    "        points = range(1, len(msg) // 2 + 1)\n",
    "    else:\n",
    "        window = min(window, len(msg) // 2)\n",
    "        points = range(window, len(msg) - window + 1)\n",
    "    for i in points:\n",
    "        if window is None:\n",
    "            l, msg_ = match_length(msg, i, i)\n",
    "            out['sum'] += np.log2(i + 1) / l    # to avoid Doeblin condition\n",
    "        else:\n",
    "            l, msg_ = match_length(msg, i, window)\n",
    "            out['sum'] += np.log2(window + 1) / l    # to avoid Doeblin condition\n",
    "        out['subS'].append(msg_)\n",
    "        out['num'] += 1\n",
    "    out['h'] = out['sum'] / out['num']\n",
    "    out['r'] = 1 - out['h'] / np.log2(len(msg))    # redundancy, 0 <= r <= 1\n",
    "    return out"
   ]
  },
  {
   "cell_type": "markdown",
   "metadata": {},
   "source": [
    "## Exercises"
   ]
  },
  {
   "cell_type": "markdown",
   "metadata": {},
   "source": [
    "Firstly, I download the data, transform it into dollar bars and calculate returns."
   ]
  },
  {
   "cell_type": "code",
   "execution_count": 64,
   "metadata": {},
   "outputs": [
    {
     "data": {
      "text/plain": [
       "2010-01-03 17:04:29    0.000179\n",
       "2010-01-03 17:15:11    0.000538\n",
       "2010-01-03 17:52:34    0.000090\n",
       "2010-01-03 18:47:00    0.000269\n",
       "2010-01-03 19:43:18   -0.000538\n",
       "dtype: float64"
      ]
     },
     "execution_count": 64,
     "metadata": {},
     "output_type": "execute_result"
    }
   ],
   "source": [
    "data = pd.read_csv('sp10-19.csv')\n",
    "dollar_bars = get_dollar_bars(data['price'].values, data['volume'].values, data['datetime'].values, 50000)\n",
    "dollar_bars_df = pd.DataFrame(data=dollar_bars[:, 1:], index=dollar_bars[:, 0],\n",
    "                           columns=['open', 'high', 'low', 'close', 'volume'])\n",
    "dollar_bars_df = dollar_bars_df[~dollar_bars_df.index.duplicated(keep='first')]\n",
    "ret = get_returns(dollar_bars)\n",
    "ret.head()"
   ]
  },
  {
   "cell_type": "markdown",
   "metadata": {},
   "source": [
    "### 1. Quantization & Entropy"
   ]
  },
  {
   "cell_type": "markdown",
   "metadata": {},
   "source": [
    "1.1 Binary quantization:"
   ]
  },
  {
   "cell_type": "code",
   "execution_count": 65,
   "metadata": {},
   "outputs": [],
   "source": [
    "ret_binary = (ret >= 0).astype(int)\n",
    "message = ''.join(map(str, ret_binary.values))"
   ]
  },
  {
   "cell_type": "code",
   "execution_count": 66,
   "metadata": {},
   "outputs": [
    {
     "name": "stdout",
     "output_type": "stream",
     "text": [
      "Plug-In Entropy estimation: 0.1631972503574526\n",
      "Konto's Entropy estimation: 0.8686435204826694\n"
     ]
    }
   ],
   "source": [
    "print(f'Plug-In Entropy estimation: {plug_in(msg=message, w=100)[0]}')\n",
    "konto_est = konto(msg=message, window=100)['h']\n",
    "print(f'Konto\\'s Entropy estimation: {konto_est}')"
   ]
  },
  {
   "cell_type": "markdown",
   "metadata": {},
   "source": [
    "1.2 Quantile encoding:"
   ]
  },
  {
   "cell_type": "code",
   "execution_count": 67,
   "metadata": {},
   "outputs": [],
   "source": [
    "ret_quantile = pd.qcut(ret, q=10, labels=range(10))\n",
    "message = ''.join(map(str, ret_quantile.values))"
   ]
  },
  {
   "cell_type": "code",
   "execution_count": 68,
   "metadata": {},
   "outputs": [
    {
     "name": "stdout",
     "output_type": "stream",
     "text": [
      "Plug-In Entropy estimation: 0.1631972503574526\n",
      "Konto's Entropy estimation: 2.479176924111044\n"
     ]
    }
   ],
   "source": [
    "print(f'Plug-In Entropy estimation: {plug_in(msg=message, w=100)[0]}')\n",
    "konto_est = konto(msg=message, window=100)['h']\n",
    "print(f'Konto\\'s Entropy estimation: {konto_est}')"
   ]
  },
  {
   "cell_type": "markdown",
   "metadata": {},
   "source": [
    "1.3 Sigma encoding:"
   ]
  },
  {
   "cell_type": "code",
   "execution_count": 69,
   "metadata": {},
   "outputs": [],
   "source": [
    "def generate_buckets(series: pd.Series, sigma: float) -> list:\n",
    "    '''\n",
    "    Generates a list of segments corresponding to each bucket.\n",
    "    \n",
    "        Parameters:\n",
    "            series (pd.Series): series with data\n",
    "            sigma (float): size of each segment\n",
    "            \n",
    "        Returns:\n",
    "            segments (list): list with segments\n",
    "    '''\n",
    "    segments = []\n",
    "    cnt = 1\n",
    "    while series.min() + (cnt - 1) * sigma < series.max():\n",
    "        segments.append([series.min() + (cnt - 1) * sigma, series.min() + cnt * sigma])\n",
    "        cnt += 1\n",
    "    return segments\n",
    "\n",
    "\n",
    "def encode_single_obs(obs: float, segments: list) -> str:\n",
    "    '''\n",
    "    Given a number, returns its code according to the generated segments using sigma encoding.\n",
    "    NOTE: for encoding, I use sumbols starting from 48th ASCII code ('0').\n",
    "    \n",
    "        Parameters:\n",
    "            obs (float): observation value\n",
    "            segments (list): list with buckets boundaries\n",
    "            \n",
    "        Returns:\n",
    "            code (str): encoded observation\n",
    "    '''\n",
    "    for i in range(len(segments)):\n",
    "        if segments[i][0] <= obs < segments[i][1]:\n",
    "            code = chr(48 + i)\n",
    "            return code"
   ]
  },
  {
   "cell_type": "code",
   "execution_count": 70,
   "metadata": {},
   "outputs": [],
   "source": [
    "segments = generate_buckets(series=ret, sigma=ret.std())\n",
    "ret_sigma = ret.apply(lambda obs: encode_single_obs(obs=obs, segments=segments))\n",
    "message = ''.join(map(str, ret_sigma.values))"
   ]
  },
  {
   "cell_type": "code",
   "execution_count": 71,
   "metadata": {},
   "outputs": [
    {
     "name": "stdout",
     "output_type": "stream",
     "text": [
      "Plug-In Entropy estimation: 0.1631972503574526\n",
      "Konto's Entropy estimation: 1.3696225581174863\n"
     ]
    }
   ],
   "source": [
    "print(f'Plug-In Entropy estimation: {plug_in(msg=message, w=100)[0]}')\n",
    "konto_est = konto(msg=message, window=100)['h']\n",
    "print(f'Konto\\'s Entropy estimation: {konto_est}')"
   ]
  },
  {
   "cell_type": "markdown",
   "metadata": {},
   "source": [
    "### 2. Normal Distribution"
   ]
  },
  {
   "cell_type": "markdown",
   "metadata": {},
   "source": [
    "The true entropy of the standord normal distribution equals\n",
    "$$\\dfrac{1}{2}\\log{(2\\pi e)}\\approx1.42$$"
   ]
  },
  {
   "cell_type": "markdown",
   "metadata": {},
   "source": [
    "Now let's make some samples and estimate the entropy:"
   ]
  },
  {
   "cell_type": "code",
   "execution_count": 72,
   "metadata": {},
   "outputs": [],
   "source": [
    "samples = np.random.normal(size=1000)\n",
    "samples_quantile = pd.qcut(samples, q=8, labels=range(8))\n",
    "message = ''.join(map(str, samples_quantile))"
   ]
  },
  {
   "cell_type": "markdown",
   "metadata": {},
   "source": [
    "The Plug-In method:"
   ]
  },
  {
   "cell_type": "code",
   "execution_count": 73,
   "metadata": {},
   "outputs": [
    {
     "name": "stdout",
     "output_type": "stream",
     "text": [
      "Plug-In Entropy estimation: 0.9951284714966828\n"
     ]
    }
   ],
   "source": [
    "print(f'Plug-In Entropy estimation: {plug_in(msg=message, w=10)[0]}')"
   ]
  },
  {
   "cell_type": "markdown",
   "metadata": {},
   "source": [
    "The Kontoyiannis method:"
   ]
  },
  {
   "cell_type": "code",
   "execution_count": 74,
   "metadata": {},
   "outputs": [
    {
     "name": "stdout",
     "output_type": "stream",
     "text": [
      "Konto's Entropy estimation (window size 10): 2.0976991828199743\n",
      "Konto's Entropy estimation (window size 100): 2.348799781077258\n"
     ]
    }
   ],
   "source": [
    "konto_est_10 = konto(msg=message, window=10)['h']\n",
    "print(f'Konto\\'s Entropy estimation (window size 10): {konto_est_10}')\n",
    "konto_est_100 = konto(msg=message, window=100)['h']\n",
    "print(f'Konto\\'s Entropy estimation (window size 100): {konto_est_100}')"
   ]
  },
  {
   "cell_type": "markdown",
   "metadata": {},
   "source": [
    "### 3. Entropy of a Stochastic Process"
   ]
  },
  {
   "cell_type": "markdown",
   "metadata": {},
   "source": [
    "Here we define a process\n",
    "$$y_t=\\rho y_{t-1}+x_t,$$ where $\\rho=0.5$, $y_0=0$, and $x_t$ are the observations generated from the standard normal distribution in the previous exercise."
   ]
  },
  {
   "cell_type": "code",
   "execution_count": 75,
   "metadata": {},
   "outputs": [
    {
     "data": {
      "image/png": "[encoded data removed]",
      "text/plain": [
       "<Figure size 864x504 with 1 Axes>"
      ]
     },
     "metadata": {},
     "output_type": "display_data"
    }
   ],
   "source": [
    "y = np.array([0])\n",
    "for i in range(1, len(samples) + 1):\n",
    "    y = np.append(y, 0.5 * y[-1] + samples[i - 1])\n",
    "\n",
    "fig, ax = plt.subplots(figsize=(12, 7))\n",
    "ax.plot(y)\n",
    "fig.show()"
   ]
  },
  {
   "cell_type": "markdown",
   "metadata": {},
   "source": [
    "Now we quantize the derived series."
   ]
  },
  {
   "cell_type": "code",
   "execution_count": 76,
   "metadata": {},
   "outputs": [],
   "source": [
    "y_quantile = pd.qcut(y, q=8, labels=range(8))\n",
    "message = ''.join(map(str, y_quantile))"
   ]
  },
  {
   "cell_type": "markdown",
   "metadata": {},
   "source": [
    "The Plug-In method:"
   ]
  },
  {
   "cell_type": "code",
   "execution_count": 77,
   "metadata": {},
   "outputs": [
    {
     "name": "stdout",
     "output_type": "stream",
     "text": [
      "Plug-In Entropy estimation: 0.9952741247186501\n"
     ]
    }
   ],
   "source": [
    "print(f'Plug-In Entropy estimation: {plug_in(msg=message, w=10)[0]}')"
   ]
  },
  {
   "cell_type": "markdown",
   "metadata": {},
   "source": [
    "The Kontoyiannis method:"
   ]
  },
  {
   "cell_type": "code",
   "execution_count": 78,
   "metadata": {},
   "outputs": [
    {
     "name": "stdout",
     "output_type": "stream",
     "text": [
      "Konto's Entropy estimation (window size 10): 2.042812656036942\n",
      "Konto's Entropy estimation (window size 100): 2.2644521115442293\n"
     ]
    }
   ],
   "source": [
    "konto_est_10 = konto(msg=message, window=10)['h']\n",
    "print(f'Konto\\'s Entropy estimation (window size 10): {konto_est_10}')\n",
    "konto_est_100 = konto(msg=message, window=100)['h']\n",
    "print(f'Konto\\'s Entropy estimation (window size 100): {konto_est_100}')"
   ]
  }
 ],
 "metadata": {
  "kernelspec": {
   "display_name": "Python 3",
   "language": "python",
   "name": "python3"
  },
  "language_info": {
   "codemirror_mode": {
    "name": "ipython",
    "version": 3
   },
   "file_extension": ".py",
   "mimetype": "text/x-python",
   "name": "python",
   "nbconvert_exporter": "python",
   "pygments_lexer": "ipython3",
   "version": "3.7.6"
  }
 },
 "nbformat": 4,
 "nbformat_minor": 4
}
