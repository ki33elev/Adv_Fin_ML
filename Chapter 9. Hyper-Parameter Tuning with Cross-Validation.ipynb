{
 "cells": [
  {
   "cell_type": "code",
   "execution_count": 1,
   "metadata": {},
   "outputs": [],
   "source": [
    "# imports\n",
    "\n",
    "import numpy as np\n",
    "import pandas as pd\n",
    "import matplotlib.pyplot as plt\n",
    "%matplotlib inline\n",
    "import seaborn as sns\n",
    "sns.set(palette='Set2')\n",
    "import plotly.graph_objects as go\n",
    "# import plotly.io as pio\n",
    "# pio.renderers.default = \"svg\"\n",
    "\n",
    "from scipy.stats import rv_continuous, kstest\n",
    "\n",
    "from sklearn.model_selection import GridSearchCV, RandomizedSearchCV\n",
    "from sklearn.pipeline import Pipeline\n",
    "from sklearn.svm import SVC\n",
    "\n",
    "from typing import Any, Dict, Optional\n",
    "\n",
    "from timeit import default_timer\n",
    "\n",
    "import warnings\n",
    "warnings.filterwarnings('ignore')\n",
    "\n",
    "import nbimporter\n",
    "from Functions import PurgedKFold, cvScore, get_test_data"
   ]
  },
  {
   "cell_type": "markdown",
   "metadata": {},
   "source": [
    "## Auxilary Functions"
   ]
  },
  {
   "cell_type": "code",
   "execution_count": 2,
   "metadata": {},
   "outputs": [],
   "source": [
    "class MyPipeline(Pipeline):\n",
    "    '''\n",
    "    Augmentation of sklearn Pipeline class that allows to pass 'sample_weight' to 'fit' method.\n",
    "    '''\n",
    "    def fit(\n",
    "        self, X: pd.DataFrame, y: pd.Series, sample_weight: Optional[pd.Series] = None, **fit_params\n",
    "    ) -> 'MyPipeline':\n",
    "        if sample_weight is not None:\n",
    "            fit_params[self.steps[-1][0] + '__sample_weight'] = sample_weight\n",
    "        return super().fit(X, y, **fit_params)"
   ]
  },
  {
   "cell_type": "code",
   "execution_count": 3,
   "metadata": {},
   "outputs": [],
   "source": [
    "def clf_hyper_fit_base(\n",
    "    feat: pd.DataFrame, lbl: pd.Series, t1: pd.Series, pipe_clf: Any, param_grid: Dict[str, list],\n",
    "    cv: int = 3, bagging: list = [0, None, 1.0], n_jobs: int = -1, pctEmbargo: float = 0.0, **fit_params\n",
    ") -> Any:\n",
    "    '''\n",
    "    Implements purged GridSearchCV with a possibility of fitting bagging of tuned estimator.\n",
    "    \n",
    "        Parameters:\n",
    "            feat (pd.DataFrame): features dataset\n",
    "            lbl (pd.Series): labels\n",
    "            t1 (pd.Series): start timestamps (t1.index) and end timestamps (t1.values) of observations\n",
    "            pipe_clf (Any): classififer to fit\n",
    "            param_grid (Dict[str, list]): dictionary with parameters values\n",
    "            cv (int): number of splits\n",
    "            bagging (list): bagging parameters (used when bagging[1] is not None)\n",
    "            n_jobs (int): number of jobs to run in parallel\n",
    "            pctEmbargo (float): share of observations to drop after train\n",
    "        \n",
    "        Returns:\n",
    "            gs (Any): fitted best estimator found by grid search\n",
    "    '''\n",
    "    if set(lbl.values) == {0, 1}:\n",
    "        scoring='f1'    # f1 for meta-labeling\n",
    "    else:\n",
    "        scoring='neg_log_loss'    # symmetric towards all cases\n",
    "    inner_cv = PurgedKFold(n_splits=cv, t1=t1, pctEmbargo=pctEmbargo)    # purged\n",
    "    gs=GridSearchCV(estimator=pipe_clf ,param_grid=param_grid, scoring=scoring, cv=inner_cv, n_jobs=n_jobs)\n",
    "    gs = gs.fit(feat, lbl, **fit_params).best_estimator_    # pipeline\n",
    "    if bagging[1] is not None and bagging[1] > 0:\n",
    "        gs = BaggingClassifier(base_estimator=MyPipeline(gs.steps), n_estimators=int(bagging[0]),\n",
    "                               max_samples=float(bagging[1]), max_features=float(bagging[2]), n_jobs=n_jobs)\n",
    "        gs = gs.fit(feat, lbl, sample_weight=fit_params[gs.base_estimator.steps[-1][0]+'__sample_weight'])\n",
    "        gs = Pipeline([('bag', gs)])\n",
    "    return gs"
   ]
  },
  {
   "cell_type": "code",
   "execution_count": 8,
   "metadata": {},
   "outputs": [],
   "source": [
    "# expand clf_hyper_fit_base to incorporate option to use randomized grid search\n",
    "def clf_hyper_fit(\n",
    "    feat: pd.DataFrame, lbl: pd.Series, t1: pd.Series, pipe_clf: Any, param_grid: Dict[str, list],\n",
    "    cv: int = 3, bagging: list = [0, None, 1.0], rndSearchIter: int = 0,\n",
    "    n_jobs: int = -1, pctEmbargo: float = 0.0, **fit_params\n",
    ") -> Any:\n",
    "    '''\n",
    "    Implements purged GridSearchCV with a possibility of fitting bagging of tuned estimator.\n",
    "    \n",
    "        Parameters:\n",
    "            feat (pd.DataFrame): features dataset\n",
    "            lbl (pd.Series): labels\n",
    "            t1 (pd.Series): start timestamps (t1.index) and end timestamps (t1.values) of observations\n",
    "            pipe_clf (Any): classififer to fit\n",
    "            param_grid (Dict[str, list]): dictionary with parameters values\n",
    "            cv (int): number of splits\n",
    "            bagging (list): bagging parameters (used when bagging[1] is not None)\n",
    "            rndSearchIter (int): number of iterations to use in randomized GS (if 0 then apply standard GS)\n",
    "            n_jobs (int): number of jobs to run in parallel\n",
    "            pctEmbargo (float): share of observations to drop after train\n",
    "        \n",
    "        Returns:\n",
    "            gs (Any): fitted best estimator found by grid search\n",
    "    '''\n",
    "    if set(lbl.values) == {0, 1}:\n",
    "        scoring='f1'    # f1 for meta-labeling\n",
    "    else:\n",
    "        scoring='neg_log_loss'    # symmetric towards all cases\n",
    "    inner_cv = PurgedKFold(n_splits=cv, t1=t1, pctEmbargo=pctEmbargo)    # purged\n",
    "    \n",
    "    if rndSearchIter == 0:\n",
    "        gs = GridSearchCV(estimator=pipe_clf, param_grid=param_grid, scoring=scoring, cv=inner_cv, n_jobs=n_jobs)\n",
    "    else:\n",
    "        gs = RandomizedSearchCV(estimator=pipe_clf, param_distributions=param_grid, scoring=scoring,\n",
    "                                cv=inner_cv, n_jobs=n_jobs, n_iter=rndSearchIter)\n",
    "    gs = gs.fit(feat, lbl, **fit_params).best_estimator_    # pipeline\n",
    "    \n",
    "    if bagging[1] is not None and bagging[1] > 0:\n",
    "        gs = BaggingClassifier(base_estimator=MyPipeline(gs.steps), n_estimators=int(bagging[0]),\n",
    "                               max_samples=float(bagging[1]), max_features=float(bagging[2]), n_jobs=n_jobs)\n",
    "        gs = gs.fit(feat, lbl, sample_weight=fit_params[gs.base_estimator.steps[-1][0]+'__sample_weight'])\n",
    "        gs = Pipeline([('bag', gs)])\n",
    "    return gs"
   ]
  },
  {
   "cell_type": "code",
   "execution_count": 5,
   "metadata": {},
   "outputs": [],
   "source": [
    "class logUniform_gen(rv_continuous):\n",
    "    '''\n",
    "    Implements generator of log-uniform random variables.\n",
    "    '''\n",
    "    def _cdf(self, x: float) -> float:\n",
    "        return np.log(x / self.a) / np.log(self.b / self.a)\n",
    "\n",
    "\n",
    "def log_uniform(a: float = 1.0, b: float = np.exp(1.0)) -> 'logUniform_gen':\n",
    "    return logUniform_gen(a=a, b=b, name='log_uniform')"
   ]
  },
  {
   "cell_type": "markdown",
   "metadata": {},
   "source": [
    "Example:"
   ]
  },
  {
   "cell_type": "code",
   "execution_count": 6,
   "metadata": {},
   "outputs": [
    {
     "name": "stdout",
     "output_type": "stream",
     "text": [
      "KstestResult(statistic=0.008573147129436381, pvalue=0.4542750397879601)\n",
      "count    10000.000000\n",
      "mean        69.665528\n",
      "std        172.653504\n",
      "min          0.001000\n",
      "25%          0.034666\n",
      "50%          1.055682\n",
      "75%         30.094845\n",
      "max        999.756637\n",
      "dtype: float64\n"
     ]
    },
    {
     "data": {
      "image/png": "[encoded data removed]",
      "text/plain": [
       "<Figure size 792x360 with 2 Axes>"
      ]
     },
     "metadata": {},
     "output_type": "display_data"
    }
   ],
   "source": [
    "a, b, size = 1e-3, 1e3, 10000\n",
    "vals = log_uniform(a=a, b=b).rvs(size=size)\n",
    "print(kstest(rvs=np.log(vals), cdf='uniform', args=(np.log(a), np.log(b / a)), N=size))\n",
    "print(pd.Series(vals).describe())\n",
    "plt.figure(figsize=(11, 5))\n",
    "plt.subplot(121)\n",
    "pd.Series(np.log(vals)).hist()\n",
    "plt.subplot(122)\n",
    "pd.Series(vals).hist()\n",
    "plt.show()"
   ]
  },
  {
   "cell_type": "markdown",
   "metadata": {},
   "source": [
    "## Exercises"
   ]
  },
  {
   "cell_type": "markdown",
   "metadata": {},
   "source": [
    "### 1.GridSearch on Synthetic Data"
   ]
  },
  {
   "cell_type": "markdown",
   "metadata": {},
   "source": [
    "Here I apply GridSearch to a synthetic dataset. I use `timeit.default_timer` to measure time spent on fitting."
   ]
  },
  {
   "cell_type": "code",
   "execution_count": 10,
   "metadata": {},
   "outputs": [
    {
     "name": "stdout",
     "output_type": "stream",
     "text": [
      "Total fitting time: 405.809 seconds\n"
     ]
    }
   ],
   "source": [
    "X, cont = get_test_data(n_features=10, n_informative=5, n_redundant=0, n_samples=2000)\n",
    "\n",
    "clf = SVC(kernel='rbf', probability=True)\n",
    "param_grid = {'C': [1e2, 1e-1, 1, 10, 100], 'gamma': [1e-2, 1e-1, 1, 10, 100]}\n",
    "\n",
    "start_time = default_timer()\n",
    "gs = GridSearchCV(estimator=clf, param_grid=param_grid, scoring='neg_log_loss', n_jobs=-1, cv=10)\n",
    "gs.fit(X, cont['bin'], sample_weight=cont['w'])\n",
    "end_time = default_timer()\n",
    "print(f\"Total fitting time: {end_time - start_time:.3f} seconds\")"
   ]
  },
  {
   "cell_type": "markdown",
   "metadata": {},
   "source": [
    "Best parameters:"
   ]
  },
  {
   "cell_type": "code",
   "execution_count": 11,
   "metadata": {},
   "outputs": [
    {
     "data": {
      "text/plain": [
       "{'C': 100.0, 'gamma': 0.1}"
      ]
     },
     "execution_count": 11,
     "metadata": {},
     "output_type": "execute_result"
    }
   ],
   "source": [
    "gs.best_params_"
   ]
  },
  {
   "cell_type": "markdown",
   "metadata": {},
   "source": [
    "Best score:"
   ]
  },
  {
   "cell_type": "code",
   "execution_count": 12,
   "metadata": {},
   "outputs": [
    {
     "name": "stdout",
     "output_type": "stream",
     "text": [
      "Mean CV score: -0.2913886473171636\n"
     ]
    }
   ],
   "source": [
    "print(f'Mean CV score: {gs.best_score_}')"
   ]
  },
  {
   "cell_type": "markdown",
   "metadata": {},
   "source": [
    "### 2. Randomized GridSearch on Synthetic Data"
   ]
  },
  {
   "cell_type": "markdown",
   "metadata": {},
   "source": [
    "Here I apply Randomized GridSearch via the same function. The number of iterations is 25 which is the same as the number of nodes in the previous task."
   ]
  },
  {
   "cell_type": "code",
   "execution_count": 13,
   "metadata": {},
   "outputs": [
    {
     "name": "stdout",
     "output_type": "stream",
     "text": [
      "Total fitting time: 379.966 seconds\n"
     ]
    }
   ],
   "source": [
    "clf = SVC(kernel='rbf', probability=True)\n",
    "param_distributions = {'C': log_uniform(a=1e-2, b=1e2), 'gamma': log_uniform(a=1e-2, b=1e2)}\n",
    "\n",
    "start_time = default_timer()\n",
    "gs_rand = RandomizedSearchCV(estimator=clf, param_distributions=param_distributions, n_iter=25,\n",
    "                             scoring='neg_log_loss', n_jobs=-1, cv=10)\n",
    "gs_rand.fit(X, cont['bin'], sample_weight=cont['w'])\n",
    "end_time = default_timer()\n",
    "print(f\"Total fitting time: {end_time - start_time:.3f} seconds\")"
   ]
  },
  {
   "cell_type": "markdown",
   "metadata": {},
   "source": [
    "Best parameters:"
   ]
  },
  {
   "cell_type": "code",
   "execution_count": 14,
   "metadata": {},
   "outputs": [
    {
     "data": {
      "text/plain": [
       "{'C': 32.222054950379814, 'gamma': 0.05494236104173599}"
      ]
     },
     "execution_count": 14,
     "metadata": {},
     "output_type": "execute_result"
    }
   ],
   "source": [
    "gs_rand.best_params_"
   ]
  },
  {
   "cell_type": "markdown",
   "metadata": {},
   "source": [
    "Best score:"
   ]
  },
  {
   "cell_type": "code",
   "execution_count": 15,
   "metadata": {},
   "outputs": [
    {
     "name": "stdout",
     "output_type": "stream",
     "text": [
      "Mean CV score: -0.33877779710671935\n"
     ]
    }
   ],
   "source": [
    "print(f'Mean CV score: {gs_rand.best_score_}')"
   ]
  },
  {
   "cell_type": "markdown",
   "metadata": {},
   "source": [
    "The best parameters of randomized GridSearch are quite close to those of the regular GridSearch, however, the score is lower."
   ]
  },
  {
   "cell_type": "markdown",
   "metadata": {},
   "source": [
    "### 3. Sharpe Ratio, Regular GridSearch"
   ]
  },
  {
   "cell_type": "code",
   "execution_count": 19,
   "metadata": {},
   "outputs": [],
   "source": [
    "def get_IS_sharpe_ratio(clf: Any) -> float:\n",
    "    '''\n",
    "    Given a fitted gridsearch classifier, returns Sharpe ratio of the best estimator's in-sample forecasts.\n",
    "    '''\n",
    "    best_estimator_ind = np.argmin(clf.cv_results_['rank_test_score'])\n",
    "    mean_score = clf.cv_results_['mean_test_score'][best_estimator_ind]\n",
    "    std_score = clf.cv_results_['std_test_score'][best_estimator_ind]\n",
    "    if mean_score < 0:\n",
    "        return -mean_score / std_score\n",
    "    else:\n",
    "        return mean_score / std_score"
   ]
  },
  {
   "cell_type": "markdown",
   "metadata": {},
   "source": [
    "Sharpe ratio of regular GridSearch, `neg_log_loss` scoring:"
   ]
  },
  {
   "cell_type": "code",
   "execution_count": 20,
   "metadata": {},
   "outputs": [
    {
     "name": "stdout",
     "output_type": "stream",
     "text": [
      "Sharpe ratio: 2.0717487544063835\n"
     ]
    }
   ],
   "source": [
    "print(f'Sharpe ratio: {get_IS_sharpe_ratio(gs)}')"
   ]
  },
  {
   "cell_type": "markdown",
   "metadata": {},
   "source": [
    "Sharpe ratio of regular GridSearch, `accuracy` scoring (need to refit GridSearch):"
   ]
  },
  {
   "cell_type": "code",
   "execution_count": 21,
   "metadata": {},
   "outputs": [
    {
     "name": "stdout",
     "output_type": "stream",
     "text": [
      "Total fitting time: 305.060 seconds\n",
      "Sharpe ratio: 11.700428101519837\n"
     ]
    }
   ],
   "source": [
    "start_time = default_timer()\n",
    "gs_acc = GridSearchCV(estimator=clf, param_grid=param_grid, scoring='accuracy', n_jobs=-1, cv=10)\n",
    "gs_acc.fit(X, cont['bin'], sample_weight=cont['w'])\n",
    "end_time = default_timer()\n",
    "print(f\"Total fitting time: {end_time - start_time:.3f} seconds\")\n",
    "\n",
    "print(f'Sharpe ratio: {get_IS_sharpe_ratio(gs_acc)}')"
   ]
  },
  {
   "cell_type": "markdown",
   "metadata": {},
   "source": [
    "As we see, `accuracy` scoring method gives much higher Sharpe ratio."
   ]
  },
  {
   "cell_type": "markdown",
   "metadata": {},
   "source": [
    "### 4. Sharpe Ratio, Randomized GridSearch"
   ]
  },
  {
   "cell_type": "markdown",
   "metadata": {},
   "source": [
    "Sharpe ratio of randomized GridSearch, `neg_log_loss` scoring:"
   ]
  },
  {
   "cell_type": "code",
   "execution_count": 22,
   "metadata": {},
   "outputs": [
    {
     "name": "stdout",
     "output_type": "stream",
     "text": [
      "Sharpe ratio: 2.005028594036192\n"
     ]
    }
   ],
   "source": [
    "print(f'Sharpe ratio: {get_IS_sharpe_ratio(gs_rand)}')"
   ]
  },
  {
   "cell_type": "markdown",
   "metadata": {},
   "source": [
    "Sharpe ratio of randomized GridSearch, `accuracy` scoring (need to refit GridSearch):"
   ]
  },
  {
   "cell_type": "code",
   "execution_count": 30,
   "metadata": {},
   "outputs": [
    {
     "name": "stdout",
     "output_type": "stream",
     "text": [
      "Total fitting time: 268.132 seconds\n",
      "Sharpe ratio: 11.8319056411605\n"
     ]
    }
   ],
   "source": [
    "start_time = default_timer()\n",
    "gs_rand_acc = RandomizedSearchCV(estimator=clf, param_distributions=param_distributions, n_iter=25,\n",
    "                                 scoring='accuracy', n_jobs=-1, cv=10)\n",
    "gs_rand_acc.fit(X, cont['bin'], sample_weight=cont['w'])\n",
    "end_time = default_timer()\n",
    "print(f\"Total fitting time: {end_time - start_time:.3f} seconds\")\n",
    "\n",
    "print(f'Sharpe ratio: {get_IS_sharpe_ratio(gs_rand_acc)}')"
   ]
  },
  {
   "cell_type": "markdown",
   "metadata": {},
   "source": [
    "In case of randomized GS, `accuracy` scoring method also gives much higher Sharpe ratio."
   ]
  }
 ],
 "metadata": {
  "kernelspec": {
   "display_name": "Python 3",
   "language": "python",
   "name": "python3"
  },
  "language_info": {
   "codemirror_mode": {
    "name": "ipython",
    "version": 3
   },
   "file_extension": ".py",
   "mimetype": "text/x-python",
   "name": "python",
   "nbconvert_exporter": "python",
   "pygments_lexer": "ipython3",
   "version": "3.7.6"
  }
 },
 "nbformat": 4,
 "nbformat_minor": 4
}
