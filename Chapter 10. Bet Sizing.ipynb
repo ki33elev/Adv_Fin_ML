{
 "cells": [
  {
   "cell_type": "code",
   "execution_count": 274,
   "metadata": {},
   "outputs": [],
   "source": [
    "# imports\n",
    "\n",
    "import numpy as np\n",
    "import pandas as pd\n",
    "import matplotlib.pyplot as plt\n",
    "%matplotlib inline\n",
    "import seaborn as sns\n",
    "sns.set(palette='Set2')\n",
    "import plotly.graph_objects as go\n",
    "\n",
    "from scipy.stats import norm\n",
    "\n",
    "from datetime import timedelta\n",
    "from pandas import Timestamp\n",
    "\n",
    "from sklearn.mixture import GaussianMixture\n",
    "\n",
    "from typing import Tuple\n",
    "\n",
    "import warnings\n",
    "warnings.filterwarnings('ignore')\n",
    "\n",
    "import nbimporter"
   ]
  },
  {
   "cell_type": "markdown",
   "metadata": {},
   "source": [
    "## Auxilary Functions"
   ]
  },
  {
   "cell_type": "code",
   "execution_count": 82,
   "metadata": {},
   "outputs": [],
   "source": [
    "def avg_active_signals_(signals: pd.DataFrame, molecule: np.ndarray) -> pd.Series:\n",
    "    '''\n",
    "    Auxilary function for averaging signals. At time loc, averages signal among those still active.\n",
    "    Signal is active if:\n",
    "        a) issued before or at loc AND\n",
    "        b) loc before signal's endtime, or endtime is still unknown (NaT).\n",
    "    \n",
    "        Parameters:\n",
    "            signals (pd.DataFrame): dataset with signals and t1\n",
    "            molecule (np.ndarray): dates of events on which weights are computed\n",
    "        \n",
    "        Returns:\n",
    "            out (pd.Series): series with average signals for each timestamp\n",
    "    '''\n",
    "    out = pd.Series()\n",
    "    for loc in molecule:\n",
    "        df0 = (signals.index.values <= loc) & ((loc < signals['t1']) | pd.isnull(signals['t1']))\n",
    "        act = signals[df0].index\n",
    "        if len(act) > 0:\n",
    "            out[loc] = signals.loc[act, 'signal'].mean()\n",
    "        else:\n",
    "            out[loc] = 0    # no signals active at this time\n",
    "    return out\n",
    "            \n",
    "\n",
    "def avg_active_signals(signals: pd.DataFrame) -> pd.Series:\n",
    "    '''\n",
    "    Computes the average signal among those active.\n",
    "    \n",
    "        Parameters:\n",
    "            signals (pd.DataFrame): dataset with signals and t1\n",
    "        \n",
    "        Returns:\n",
    "            out (pd.Series): series with average signals for each timestamp\n",
    "    '''\n",
    "    tPnts = set(signals['t1'].dropna().values)\n",
    "    tPnts = tPnts.union(signals.index.values)\n",
    "    tPnts = sorted(list(tPnts))\n",
    "    out = avg_active_signals_(signals=signals, molecule=tPnts)\n",
    "    return out"
   ]
  },
  {
   "cell_type": "code",
   "execution_count": 3,
   "metadata": {},
   "outputs": [],
   "source": [
    "def discrete_signal(signal0: pd.Series, stepSize: float) -> pd.Series:\n",
    "    '''\n",
    "    Discretizes signals.\n",
    "    \n",
    "        Parameters:\n",
    "            signal0 (pd.Series): series with signals\n",
    "            stepSize (float): degree of discretization (must be in (0, 1])\n",
    "        \n",
    "        Returns:\n",
    "            signal1 (pd.Series): series with discretized signals\n",
    "    '''\n",
    "    signal1 = (signal0 / stepSize).round() * stepSize    # discretize\n",
    "    signal1[signal1 > 1] = 1    # cap\n",
    "    signal1[signal1 < -1] = -1    # floor\n",
    "    return signal1"
   ]
  },
  {
   "cell_type": "code",
   "execution_count": 4,
   "metadata": {},
   "outputs": [],
   "source": [
    "# no multithreading\n",
    "def get_signal(\n",
    "    events: pd.DataFrame, stepSize: float, prob: pd.Series, pred: pd.Series, numClasses: int, **kargs\n",
    ") -> pd.Series:\n",
    "    '''\n",
    "    Gets signals from predictions. Includes averaging of active bets as well as discretizing final value.\n",
    "    \n",
    "        Parameters:\n",
    "            events (pd.DataFrame): dataframe with columns:\n",
    "                                       - t1: timestamp of the first barrier touch\n",
    "                                       - trgt: target that was used to generate the horizontal barriers\n",
    "                                       - side (optional): side of bets\n",
    "            stepSize (float): ---\n",
    "            prob (pd.Series): series with probabilities of given predictions\n",
    "            pred (pd.Series): series with predictions\n",
    "            numClasses (int): number of classes\n",
    "        \n",
    "        Returns:\n",
    "            signal1 (pd.Series): series with discretized signals\n",
    "    '''\n",
    "    if prob.shape[0] == 0:\n",
    "        return pd.Series()\n",
    "    signal0 = (prob - 1.0 / numClasses) / (prob * (1.0 - prob)) ** 0.5    # t-value\n",
    "    signal0 = pred * (2 * norm.cdf(signal0) - 1)    # signal = side * size\n",
    "    if 'side' in events:\n",
    "        signal0 *= events.loc[signal0.index, 'side']    # meta-labeling\n",
    "    df0 = signal0.to_frame('signal').join(events[['t1']], how='left')\n",
    "    df0 = avg_active_signals(df0)\n",
    "    signal1 = discrete_signal(signal0=df0, stepSize=stepSize)\n",
    "    return signal1"
   ]
  },
  {
   "cell_type": "code",
   "execution_count": 5,
   "metadata": {},
   "outputs": [],
   "source": [
    "def bet_size(x: float, w: float) -> float:\n",
    "    '''\n",
    "    Returns bet size given price divergence and sigmoid function coefficient.\n",
    "    \n",
    "        Parameters:\n",
    "            x (float): difference between forecast price and current price f_i - p_t\n",
    "            w (float): coefficient that regulates the width of the sigmoid function\n",
    "        \n",
    "        Returns:\n",
    "            (float): bet size\n",
    "    '''\n",
    "    return x * (w + x ** 2) ** (-0.5)\n",
    "\n",
    "\n",
    "def get_target_pos(w: float, f: float, mP: float, maxPos: float) -> float:\n",
    "    '''\n",
    "    Calculates target position size associated with forecast f.\n",
    "    \n",
    "        Parameters:\n",
    "            w (float): coefficient that regulates the width of the sigmoid function\n",
    "            f (float): forecast price\n",
    "            mP (float): current market price\n",
    "            maxPos (float): maximum absolute position size\n",
    "        \n",
    "        Returns:\n",
    "            (float): target position size\n",
    "    '''\n",
    "    return int(bet_size(w, f - mP) * maxPos)\n",
    "\n",
    "\n",
    "def inv_price(f: float, w: float, m: float) -> float:\n",
    "    '''\n",
    "    Calculates inverse function of bet size with respect to market price p_t.\n",
    "    \n",
    "        Parameters:\n",
    "            f (float): forecast price\n",
    "            w (float): coefficient that regulates the width of the sigmoid function\n",
    "            m (float): bet size\n",
    "            \n",
    "        Returns:\n",
    "            (float): inverse price function\n",
    "    '''\n",
    "    return f - m * (w / (1 - m**2)) ** 0.5\n",
    "\n",
    "\n",
    "def limit_price(tPos: float, pos: float, f: float, w: float, maxPos: float) -> float:\n",
    "    '''\n",
    "    Calculates breakeven limit price p̄ for the order size q̂_{i,t} − q_t to avoid realizing losses.\n",
    "    \n",
    "        Parameters:\n",
    "            tPos (float): target position\n",
    "            pos (float): current position\n",
    "            f (float): forecast price\n",
    "            w (float): coefficient that regulates the width of the sigmoid function\n",
    "            maxPos (float): maximum absolute position size\n",
    "        \n",
    "        Returns:\n",
    "            lP (float): limit price\n",
    "    '''\n",
    "    sgn = (1 if tPos >= pos else -1)\n",
    "    lP = 0\n",
    "    for j in range(abs(pos + sgn), abs(tPos + 1)):\n",
    "        lP += inv_price(f, w, j / float(maxPos))\n",
    "    lP /= tPos - pos\n",
    "    return lP\n",
    "\n",
    "\n",
    "def get_w(x: float, m: float):\n",
    "    '''\n",
    "    Calibrates sigmoid coefficient by calculating the inverse function of bet size with respect to w.\n",
    "    \n",
    "        Parameters:\n",
    "            x (float): difference between forecast price and current price f_i - p_t\n",
    "            m (float): bet size\n",
    "    '''\n",
    "    return x ** 2 * (m**(-2) - 1)"
   ]
  },
  {
   "cell_type": "markdown",
   "metadata": {},
   "source": [
    "Example:"
   ]
  },
  {
   "cell_type": "code",
   "execution_count": 6,
   "metadata": {},
   "outputs": [
    {
     "name": "stdout",
     "output_type": "stream",
     "text": [
      "Calibrated w: 10.803324099723\n",
      "Target position: 94\n",
      "Limit price for order: 112.64745169441017\n"
     ]
    }
   ],
   "source": [
    "pos, maxPos, mP, f, wParams = 0, 100, 100, 115, {'divergence': 10, 'm': 0.95}\n",
    "w = get_w(wParams['divergence'], wParams['m'])    # calibrate w\n",
    "target_pos = get_target_pos(w, f, mP, maxPos)    # get target position\n",
    "lP = limit_price(target_pos, pos, f, w, maxPos)    # limit price for order\n",
    "\n",
    "print(f'Calibrated w: {w}')\n",
    "print(f'Target position: {target_pos}')\n",
    "print(f'Limit price for order: {lP}')"
   ]
  },
  {
   "cell_type": "markdown",
   "metadata": {},
   "source": [
    "## Exercises"
   ]
  },
  {
   "cell_type": "markdown",
   "metadata": {},
   "source": [
    "### 1. Bet Size as a Function of the Maximum Predicted Probability"
   ]
  },
  {
   "cell_type": "markdown",
   "metadata": {},
   "source": [
    "Here I plot the bet size as a function of maximum predicted probability $\\tilde{p}$ given by expression\n",
    "$$m=2Z[z]-1,$$\n",
    "$$z=\\dfrac{\\tilde{p}-\\dfrac{1}{||X||}}{\\sqrt{\\tilde{p}(1-\\tilde{p})}}$$\n",
    "Here $||X||$ runs from $2$ to $10$."
   ]
  },
  {
   "cell_type": "code",
   "execution_count": 15,
   "metadata": {},
   "outputs": [
    {
     "data": {
      "image/png": "[encoded data removed]",
      "text/plain": [
       "<Figure size 864x576 with 1 Axes>"
      ]
     },
     "metadata": {},
     "output_type": "display_data"
    }
   ],
   "source": [
    "p = np.linspace(0, 1, 1000)\n",
    "fig, ax = plt.subplots(figsize=(12, 8))\n",
    "for X_size in range(2, 11):\n",
    "    z = (p - 1 / X_size) / (p * (1 - p)) ** 0.5\n",
    "    ax.plot(p, 2 * norm.cdf(z) - 1, label=f'$||X||=${X_size}')\n",
    "ax.set_xlabel(r'Maximum Predicted Probability $\\tilde{p}$')\n",
    "ax.set_ylabel('Bet Size')\n",
    "ax.legend(loc='best')\n",
    "ax.set_title('Bet Size as a Function of Maximum Predicted Probability')\n",
    "plt.show()"
   ]
  },
  {
   "cell_type": "markdown",
   "metadata": {},
   "source": [
    "### 2. Bet Sizes & t1"
   ]
  },
  {
   "cell_type": "markdown",
   "metadata": {},
   "source": [
    "As all the probabilities are between $0.5$ and $1$, we have to manually choose some positions to be short (otherwise they are all long). Let's choose every second position to be short. First we create a series of bet sizes for each of 10000 dates:"
   ]
  },
  {
   "cell_type": "code",
   "execution_count": 164,
   "metadata": {},
   "outputs": [
    {
     "data": {
      "text/plain": [
       "1990-01-01    0.057322\n",
       "1990-01-02   -0.943288\n",
       "1990-01-03    0.327755\n",
       "1990-01-04   -0.569561\n",
       "1990-01-05    0.380620\n",
       "                ...   \n",
       "2017-05-14   -0.520364\n",
       "2017-05-15    0.856712\n",
       "2017-05-16   -0.048810\n",
       "2017-05-17    0.365394\n",
       "2017-05-18   -0.020484\n",
       "Freq: D, Length: 10000, dtype: float64"
      ]
     },
     "execution_count": 164,
     "metadata": {},
     "output_type": "execute_result"
    }
   ],
   "source": [
    "preds = np.random.uniform(0.5, 1.0, size=10000)\n",
    "sides = np.array([(-1) ** i for i in range(10000)])\n",
    "z = (preds - 0.5) / (preds * (1 - preds)) ** 0.5\n",
    "bet_size = pd.Series(data=sides * (2 * norm.cdf(z) - 1), index=pd.date_range(start='1/1/1990', periods=10000))\n",
    "bet_size"
   ]
  },
  {
   "cell_type": "markdown",
   "metadata": {},
   "source": [
    "Now we obtain random shifts to create the `t1` series and cpmbine it with bets:"
   ]
  },
  {
   "cell_type": "code",
   "execution_count": 165,
   "metadata": {},
   "outputs": [
    {
     "data": {
      "text/html": [
       "<div>\n",
       "<style scoped>\n",
       "    .dataframe tbody tr th:only-of-type {\n",
       "        vertical-align: middle;\n",
       "    }\n",
       "\n",
       "    .dataframe tbody tr th {\n",
       "        vertical-align: top;\n",
       "    }\n",
       "\n",
       "    .dataframe thead th {\n",
       "        text-align: right;\n",
       "    }\n",
       "</style>\n",
       "<table border=\"1\" class=\"dataframe\">\n",
       "  <thead>\n",
       "    <tr style=\"text-align: right;\">\n",
       "      <th></th>\n",
       "      <th>t1</th>\n",
       "      <th>signal</th>\n",
       "    </tr>\n",
       "  </thead>\n",
       "  <tbody>\n",
       "    <tr>\n",
       "      <th>1990-01-01</th>\n",
       "      <td>1990-01-25</td>\n",
       "      <td>0.057322</td>\n",
       "    </tr>\n",
       "    <tr>\n",
       "      <th>1990-01-02</th>\n",
       "      <td>1990-01-16</td>\n",
       "      <td>-0.943288</td>\n",
       "    </tr>\n",
       "    <tr>\n",
       "      <th>1990-01-03</th>\n",
       "      <td>1990-01-17</td>\n",
       "      <td>0.327755</td>\n",
       "    </tr>\n",
       "    <tr>\n",
       "      <th>1990-01-04</th>\n",
       "      <td>1990-01-13</td>\n",
       "      <td>-0.569561</td>\n",
       "    </tr>\n",
       "    <tr>\n",
       "      <th>1990-01-05</th>\n",
       "      <td>1990-01-12</td>\n",
       "      <td>0.380620</td>\n",
       "    </tr>\n",
       "  </tbody>\n",
       "</table>\n",
       "</div>"
      ],
      "text/plain": [
       "                   t1    signal\n",
       "1990-01-01 1990-01-25  0.057322\n",
       "1990-01-02 1990-01-16 -0.943288\n",
       "1990-01-03 1990-01-17  0.327755\n",
       "1990-01-04 1990-01-13 -0.569561\n",
       "1990-01-05 1990-01-12  0.380620"
      ]
     },
     "execution_count": 165,
     "metadata": {},
     "output_type": "execute_result"
    }
   ],
   "source": [
    "shifts = np.random.uniform(1, 25, size=10000).astype(int)\n",
    "shifts = pd.Series(data=shifts * timedelta(days=1) + pd.date_range(start='1/1/1990', periods=10000),\n",
    "                   index=pd.date_range(start='1/1/1990', periods=10000))\n",
    "signals = shifts.to_frame(name='t1')\n",
    "signals['signal'] = bet_size\n",
    "signals.head()"
   ]
  },
  {
   "cell_type": "markdown",
   "metadata": {},
   "source": [
    "Finally, we can calculate the average signal among those active:"
   ]
  },
  {
   "cell_type": "code",
   "execution_count": 166,
   "metadata": {},
   "outputs": [
    {
     "data": {
      "text/plain": [
       "1990-01-01    0.057322\n",
       "1990-01-02   -0.442983\n",
       "1990-01-03   -0.186070\n",
       "1990-01-04   -0.281943\n",
       "1990-01-05   -0.149431\n",
       "                ...   \n",
       "2017-05-27    0.426650\n",
       "2017-05-28    0.538434\n",
       "2017-06-01    0.734182\n",
       "2017-06-06    0.365394\n",
       "2017-06-10    0.000000\n",
       "Length: 10009, dtype: float64"
      ]
     },
     "execution_count": 166,
     "metadata": {},
     "output_type": "execute_result"
    }
   ],
   "source": [
    "avg_signals = avg_active_signals(signals)\n",
    "avg_signals"
   ]
  },
  {
   "cell_type": "markdown",
   "metadata": {},
   "source": [
    "### 3. Concurrent Bets"
   ]
  },
  {
   "cell_type": "markdown",
   "metadata": {},
   "source": [
    "Maximum number of concurrent long and short bets:"
   ]
  },
  {
   "cell_type": "code",
   "execution_count": 187,
   "metadata": {},
   "outputs": [],
   "source": [
    "def get_num_conc_bets_by_date(date: Timestamp, signals: pd.DataFrame) -> Tuple[int, int]:\n",
    "    '''\n",
    "    Derives number of long and short concurrent bets by given date.\n",
    "    \n",
    "        Parameters:\n",
    "            date (Timestamp): date of signal\n",
    "            signals (pd.DataFrame): dataframe with signals\n",
    "            \n",
    "        Returns:\n",
    "            long, short (Tuple[int, int]): number of long and short concurrent bets\n",
    "    '''\n",
    "    long, short = 0, 0\n",
    "    for ind in pd.date_range(start=max(signals.index[0], date - timedelta(days=25)), end=date):\n",
    "        if ind <= date and signals.loc[ind]['t1'] >= date:\n",
    "            if signals.loc[ind]['signal'] >= 0:\n",
    "                long += 1\n",
    "            else:\n",
    "                short += 1\n",
    "    return long, short"
   ]
  },
  {
   "cell_type": "code",
   "execution_count": 168,
   "metadata": {},
   "outputs": [
    {
     "data": {
      "text/html": [
       "<div>\n",
       "<style scoped>\n",
       "    .dataframe tbody tr th:only-of-type {\n",
       "        vertical-align: middle;\n",
       "    }\n",
       "\n",
       "    .dataframe tbody tr th {\n",
       "        vertical-align: top;\n",
       "    }\n",
       "\n",
       "    .dataframe thead th {\n",
       "        text-align: right;\n",
       "    }\n",
       "</style>\n",
       "<table border=\"1\" class=\"dataframe\">\n",
       "  <thead>\n",
       "    <tr style=\"text-align: right;\">\n",
       "      <th></th>\n",
       "      <th>t1</th>\n",
       "      <th>signal</th>\n",
       "      <th>conc_long</th>\n",
       "      <th>conc_short</th>\n",
       "    </tr>\n",
       "  </thead>\n",
       "  <tbody>\n",
       "    <tr>\n",
       "      <th>1990-01-01</th>\n",
       "      <td>1990-01-25</td>\n",
       "      <td>0.057322</td>\n",
       "      <td>1.0</td>\n",
       "      <td>0.0</td>\n",
       "    </tr>\n",
       "    <tr>\n",
       "      <th>1990-01-02</th>\n",
       "      <td>1990-01-16</td>\n",
       "      <td>-0.943288</td>\n",
       "      <td>1.0</td>\n",
       "      <td>1.0</td>\n",
       "    </tr>\n",
       "    <tr>\n",
       "      <th>1990-01-03</th>\n",
       "      <td>1990-01-17</td>\n",
       "      <td>0.327755</td>\n",
       "      <td>2.0</td>\n",
       "      <td>1.0</td>\n",
       "    </tr>\n",
       "    <tr>\n",
       "      <th>1990-01-04</th>\n",
       "      <td>1990-01-13</td>\n",
       "      <td>-0.569561</td>\n",
       "      <td>2.0</td>\n",
       "      <td>2.0</td>\n",
       "    </tr>\n",
       "    <tr>\n",
       "      <th>1990-01-05</th>\n",
       "      <td>1990-01-12</td>\n",
       "      <td>0.380620</td>\n",
       "      <td>3.0</td>\n",
       "      <td>2.0</td>\n",
       "    </tr>\n",
       "    <tr>\n",
       "      <th>...</th>\n",
       "      <td>...</td>\n",
       "      <td>...</td>\n",
       "      <td>...</td>\n",
       "      <td>...</td>\n",
       "    </tr>\n",
       "    <tr>\n",
       "      <th>2017-05-14</th>\n",
       "      <td>2017-05-18</td>\n",
       "      <td>-0.520364</td>\n",
       "      <td>5.0</td>\n",
       "      <td>6.0</td>\n",
       "    </tr>\n",
       "    <tr>\n",
       "      <th>2017-05-15</th>\n",
       "      <td>2017-06-06</td>\n",
       "      <td>0.856712</td>\n",
       "      <td>6.0</td>\n",
       "      <td>6.0</td>\n",
       "    </tr>\n",
       "    <tr>\n",
       "      <th>2017-05-16</th>\n",
       "      <td>2017-06-01</td>\n",
       "      <td>-0.048810</td>\n",
       "      <td>6.0</td>\n",
       "      <td>6.0</td>\n",
       "    </tr>\n",
       "    <tr>\n",
       "      <th>2017-05-17</th>\n",
       "      <td>2017-06-10</td>\n",
       "      <td>0.365394</td>\n",
       "      <td>6.0</td>\n",
       "      <td>6.0</td>\n",
       "    </tr>\n",
       "    <tr>\n",
       "      <th>2017-05-18</th>\n",
       "      <td>2017-05-28</td>\n",
       "      <td>-0.020484</td>\n",
       "      <td>6.0</td>\n",
       "      <td>6.0</td>\n",
       "    </tr>\n",
       "  </tbody>\n",
       "</table>\n",
       "<p>10000 rows × 4 columns</p>\n",
       "</div>"
      ],
      "text/plain": [
       "                   t1    signal  conc_long  conc_short\n",
       "1990-01-01 1990-01-25  0.057322        1.0         0.0\n",
       "1990-01-02 1990-01-16 -0.943288        1.0         1.0\n",
       "1990-01-03 1990-01-17  0.327755        2.0         1.0\n",
       "1990-01-04 1990-01-13 -0.569561        2.0         2.0\n",
       "1990-01-05 1990-01-12  0.380620        3.0         2.0\n",
       "...               ...       ...        ...         ...\n",
       "2017-05-14 2017-05-18 -0.520364        5.0         6.0\n",
       "2017-05-15 2017-06-06  0.856712        6.0         6.0\n",
       "2017-05-16 2017-06-01 -0.048810        6.0         6.0\n",
       "2017-05-17 2017-06-10  0.365394        6.0         6.0\n",
       "2017-05-18 2017-05-28 -0.020484        6.0         6.0\n",
       "\n",
       "[10000 rows x 4 columns]"
      ]
     },
     "execution_count": 168,
     "metadata": {},
     "output_type": "execute_result"
    }
   ],
   "source": [
    "for ind in signals.index:\n",
    "    signals.loc[ind, 'conc_long'], signals.loc[ind, 'conc_short'] = get_num_conc_bets_by_date(date=ind, signals=signals)\n",
    "signals"
   ]
  },
  {
   "cell_type": "code",
   "execution_count": 169,
   "metadata": {},
   "outputs": [
    {
     "name": "stdout",
     "output_type": "stream",
     "text": [
      "Maximum number of concurrent long bets: 12.0\n",
      "Maximum number of concurrent short bets: 12.0\n"
     ]
    }
   ],
   "source": [
    "max_conc_long = signals['conc_long'].max()\n",
    "max_conc_short = signals['conc_short'].max()\n",
    "\n",
    "print(f'Maximum number of concurrent long bets: {max_conc_long}')\n",
    "print(f'Maximum number of concurrent short bets: {max_conc_short}')"
   ]
  },
  {
   "cell_type": "markdown",
   "metadata": {},
   "source": [
    "Now we can derive the bet size another way - using the formula\n",
    "$$m_t=c_{t, l}\\dfrac{1}{\\overline{c}_l}-c_{t, s}\\dfrac{1}{\\overline{c}_s}$$"
   ]
  },
  {
   "cell_type": "code",
   "execution_count": 174,
   "metadata": {},
   "outputs": [
    {
     "data": {
      "text/html": [
       "<div>\n",
       "<style scoped>\n",
       "    .dataframe tbody tr th:only-of-type {\n",
       "        vertical-align: middle;\n",
       "    }\n",
       "\n",
       "    .dataframe tbody tr th {\n",
       "        vertical-align: top;\n",
       "    }\n",
       "\n",
       "    .dataframe thead th {\n",
       "        text-align: right;\n",
       "    }\n",
       "</style>\n",
       "<table border=\"1\" class=\"dataframe\">\n",
       "  <thead>\n",
       "    <tr style=\"text-align: right;\">\n",
       "      <th></th>\n",
       "      <th>t1</th>\n",
       "      <th>signal</th>\n",
       "      <th>conc_long</th>\n",
       "      <th>conc_short</th>\n",
       "      <th>bet_size</th>\n",
       "    </tr>\n",
       "  </thead>\n",
       "  <tbody>\n",
       "    <tr>\n",
       "      <th>1990-01-01</th>\n",
       "      <td>1990-01-25</td>\n",
       "      <td>0.057322</td>\n",
       "      <td>1.0</td>\n",
       "      <td>0.0</td>\n",
       "      <td>0.083333</td>\n",
       "    </tr>\n",
       "    <tr>\n",
       "      <th>1990-01-02</th>\n",
       "      <td>1990-01-16</td>\n",
       "      <td>-0.943288</td>\n",
       "      <td>1.0</td>\n",
       "      <td>1.0</td>\n",
       "      <td>0.000000</td>\n",
       "    </tr>\n",
       "    <tr>\n",
       "      <th>1990-01-03</th>\n",
       "      <td>1990-01-17</td>\n",
       "      <td>0.327755</td>\n",
       "      <td>2.0</td>\n",
       "      <td>1.0</td>\n",
       "      <td>0.083333</td>\n",
       "    </tr>\n",
       "    <tr>\n",
       "      <th>1990-01-04</th>\n",
       "      <td>1990-01-13</td>\n",
       "      <td>-0.569561</td>\n",
       "      <td>2.0</td>\n",
       "      <td>2.0</td>\n",
       "      <td>0.000000</td>\n",
       "    </tr>\n",
       "    <tr>\n",
       "      <th>1990-01-05</th>\n",
       "      <td>1990-01-12</td>\n",
       "      <td>0.380620</td>\n",
       "      <td>3.0</td>\n",
       "      <td>2.0</td>\n",
       "      <td>0.083333</td>\n",
       "    </tr>\n",
       "  </tbody>\n",
       "</table>\n",
       "</div>"
      ],
      "text/plain": [
       "                   t1    signal  conc_long  conc_short  bet_size\n",
       "1990-01-01 1990-01-25  0.057322        1.0         0.0  0.083333\n",
       "1990-01-02 1990-01-16 -0.943288        1.0         1.0  0.000000\n",
       "1990-01-03 1990-01-17  0.327755        2.0         1.0  0.083333\n",
       "1990-01-04 1990-01-13 -0.569561        2.0         2.0  0.000000\n",
       "1990-01-05 1990-01-12  0.380620        3.0         2.0  0.083333"
      ]
     },
     "execution_count": 174,
     "metadata": {},
     "output_type": "execute_result"
    }
   ],
   "source": [
    "signals['bet_size'] = signals['conc_long'] / max_conc_long - signals['conc_short'] / max_conc_short\n",
    "signals.head(5)"
   ]
  },
  {
   "cell_type": "code",
   "execution_count": 186,
   "metadata": {},
   "outputs": [
    {
     "name": "stdout",
     "output_type": "stream",
     "text": [
      "Max bet size: 0.5833333333333334\n",
      "Min bet size: -0.6666666666666667\n"
     ]
    }
   ],
   "source": [
    "print(f'Max bet size: {signals.bet_size.max()}')\n",
    "print(f'Min bet size: {signals.bet_size.min()}')"
   ]
  },
  {
   "cell_type": "markdown",
   "metadata": {},
   "source": [
    "### 4. Bet Sizes Using Mixture of Two Gaussians"
   ]
  },
  {
   "cell_type": "code",
   "execution_count": 191,
   "metadata": {},
   "outputs": [
    {
     "data": {
      "text/plain": [
       "1990-01-01    1.0\n",
       "1990-01-02    0.0\n",
       "1990-01-03    1.0\n",
       "1990-01-04    0.0\n",
       "1990-01-05    1.0\n",
       "             ... \n",
       "2017-05-14   -1.0\n",
       "2017-05-15    0.0\n",
       "2017-05-16    0.0\n",
       "2017-05-17    0.0\n",
       "2017-05-18    0.0\n",
       "Freq: D, Length: 10000, dtype: float64"
      ]
     },
     "execution_count": 191,
     "metadata": {},
     "output_type": "execute_result"
    }
   ],
   "source": [
    "c = signals['conc_long'] - signals['conc_short']\n",
    "c"
   ]
  },
  {
   "cell_type": "markdown",
   "metadata": {},
   "source": [
    "Now we have to fit a mixture of two Gaussians on this series:"
   ]
  },
  {
   "cell_type": "code",
   "execution_count": 253,
   "metadata": {},
   "outputs": [
    {
     "data": {
      "image/png": "[encoded data removed]",
      "text/plain": [
       "<Figure size 864x576 with 1 Axes>"
      ]
     },
     "metadata": {},
     "output_type": "display_data"
    }
   ],
   "source": [
    "mixture = GaussianMixture(n_components=2).fit(c.values.reshape(-1, 1))\n",
    "fig, ax = plt.subplots(figsize=(12, 8))\n",
    "x = np.linspace(-10, 10, 1000).reshape(-1, 1)\n",
    "logprob = mixture.score_samples(x)\n",
    "pdf = np.exp(logprob)\n",
    "ax.plot(x, pdf, color='red', label='Gaussian Mixture')\n",
    "ax.hist(c.values, density=True, label='Histogram of c series')\n",
    "ax.legend(loc='best')\n",
    "plt.show()"
   ]
  },
  {
   "cell_type": "markdown",
   "metadata": {},
   "source": [
    "Note: this is indeed a **mixture** of 2 Gaussians, though they have close means and so it's hard to distinguish components by looking at the graphics."
   ]
  },
  {
   "cell_type": "markdown",
   "metadata": {},
   "source": [
    "Now we have to be able to calculate CDF of the fitted Gaussian mixture. We can calculate it simply as a cumulative sum of its PDF."
   ]
  },
  {
   "cell_type": "code",
   "execution_count": 268,
   "metadata": {},
   "outputs": [
    {
     "data": {
      "text/html": [
       "<div>\n",
       "<style scoped>\n",
       "    .dataframe tbody tr th:only-of-type {\n",
       "        vertical-align: middle;\n",
       "    }\n",
       "\n",
       "    .dataframe tbody tr th {\n",
       "        vertical-align: top;\n",
       "    }\n",
       "\n",
       "    .dataframe thead th {\n",
       "        text-align: right;\n",
       "    }\n",
       "</style>\n",
       "<table border=\"1\" class=\"dataframe\">\n",
       "  <thead>\n",
       "    <tr style=\"text-align: right;\">\n",
       "      <th></th>\n",
       "      <th>t1</th>\n",
       "      <th>signal</th>\n",
       "      <th>conc_long</th>\n",
       "      <th>conc_short</th>\n",
       "      <th>bet_size</th>\n",
       "      <th>bet_size_GM</th>\n",
       "    </tr>\n",
       "  </thead>\n",
       "  <tbody>\n",
       "    <tr>\n",
       "      <th>1990-01-01</th>\n",
       "      <td>1990-01-25</td>\n",
       "      <td>0.057322</td>\n",
       "      <td>1.0</td>\n",
       "      <td>0.0</td>\n",
       "      <td>0.083333</td>\n",
       "      <td>0.345229</td>\n",
       "    </tr>\n",
       "    <tr>\n",
       "      <th>1990-01-02</th>\n",
       "      <td>1990-01-16</td>\n",
       "      <td>-0.943288</td>\n",
       "      <td>1.0</td>\n",
       "      <td>1.0</td>\n",
       "      <td>0.000000</td>\n",
       "      <td>0.000000</td>\n",
       "    </tr>\n",
       "    <tr>\n",
       "      <th>1990-01-03</th>\n",
       "      <td>1990-01-17</td>\n",
       "      <td>0.327755</td>\n",
       "      <td>2.0</td>\n",
       "      <td>1.0</td>\n",
       "      <td>0.083333</td>\n",
       "      <td>0.345229</td>\n",
       "    </tr>\n",
       "    <tr>\n",
       "      <th>1990-01-04</th>\n",
       "      <td>1990-01-13</td>\n",
       "      <td>-0.569561</td>\n",
       "      <td>2.0</td>\n",
       "      <td>2.0</td>\n",
       "      <td>0.000000</td>\n",
       "      <td>0.000000</td>\n",
       "    </tr>\n",
       "    <tr>\n",
       "      <th>1990-01-05</th>\n",
       "      <td>1990-01-12</td>\n",
       "      <td>0.380620</td>\n",
       "      <td>3.0</td>\n",
       "      <td>2.0</td>\n",
       "      <td>0.083333</td>\n",
       "      <td>0.345229</td>\n",
       "    </tr>\n",
       "    <tr>\n",
       "      <th>...</th>\n",
       "      <td>...</td>\n",
       "      <td>...</td>\n",
       "      <td>...</td>\n",
       "      <td>...</td>\n",
       "      <td>...</td>\n",
       "      <td>...</td>\n",
       "    </tr>\n",
       "    <tr>\n",
       "      <th>2017-05-14</th>\n",
       "      <td>2017-05-18</td>\n",
       "      <td>-0.520364</td>\n",
       "      <td>5.0</td>\n",
       "      <td>6.0</td>\n",
       "      <td>-0.083333</td>\n",
       "      <td>-0.354456</td>\n",
       "    </tr>\n",
       "    <tr>\n",
       "      <th>2017-05-15</th>\n",
       "      <td>2017-06-06</td>\n",
       "      <td>0.856712</td>\n",
       "      <td>6.0</td>\n",
       "      <td>6.0</td>\n",
       "      <td>0.000000</td>\n",
       "      <td>0.000000</td>\n",
       "    </tr>\n",
       "    <tr>\n",
       "      <th>2017-05-16</th>\n",
       "      <td>2017-06-01</td>\n",
       "      <td>-0.048810</td>\n",
       "      <td>6.0</td>\n",
       "      <td>6.0</td>\n",
       "      <td>0.000000</td>\n",
       "      <td>0.000000</td>\n",
       "    </tr>\n",
       "    <tr>\n",
       "      <th>2017-05-17</th>\n",
       "      <td>2017-06-10</td>\n",
       "      <td>0.365394</td>\n",
       "      <td>6.0</td>\n",
       "      <td>6.0</td>\n",
       "      <td>0.000000</td>\n",
       "      <td>0.000000</td>\n",
       "    </tr>\n",
       "    <tr>\n",
       "      <th>2017-05-18</th>\n",
       "      <td>2017-05-28</td>\n",
       "      <td>-0.020484</td>\n",
       "      <td>6.0</td>\n",
       "      <td>6.0</td>\n",
       "      <td>0.000000</td>\n",
       "      <td>0.000000</td>\n",
       "    </tr>\n",
       "  </tbody>\n",
       "</table>\n",
       "<p>10000 rows × 6 columns</p>\n",
       "</div>"
      ],
      "text/plain": [
       "                   t1    signal  conc_long  conc_short  bet_size  bet_size_GM\n",
       "1990-01-01 1990-01-25  0.057322        1.0         0.0  0.083333     0.345229\n",
       "1990-01-02 1990-01-16 -0.943288        1.0         1.0  0.000000     0.000000\n",
       "1990-01-03 1990-01-17  0.327755        2.0         1.0  0.083333     0.345229\n",
       "1990-01-04 1990-01-13 -0.569561        2.0         2.0  0.000000     0.000000\n",
       "1990-01-05 1990-01-12  0.380620        3.0         2.0  0.083333     0.345229\n",
       "...               ...       ...        ...         ...       ...          ...\n",
       "2017-05-14 2017-05-18 -0.520364        5.0         6.0 -0.083333    -0.354456\n",
       "2017-05-15 2017-06-06  0.856712        6.0         6.0  0.000000     0.000000\n",
       "2017-05-16 2017-06-01 -0.048810        6.0         6.0  0.000000     0.000000\n",
       "2017-05-17 2017-06-10  0.365394        6.0         6.0  0.000000     0.000000\n",
       "2017-05-18 2017-05-28 -0.020484        6.0         6.0  0.000000     0.000000\n",
       "\n",
       "[10000 rows x 6 columns]"
      ]
     },
     "execution_count": 268,
     "metadata": {},
     "output_type": "execute_result"
    }
   ],
   "source": [
    "x0 = np.linspace(-15, 0, 1000).reshape(-1, 1)\n",
    "logprob = mixture.score_samples(x0)\n",
    "F_0 = np.exp(logprob).sum() * 15 / 1000    # have to normalize pdf\n",
    "for ind in signals.index:\n",
    "    x1 = np.linspace(-15, c[ind], 1000).reshape(-1, 1)\n",
    "    logprob = mixture.score_samples(x1)\n",
    "    F_c = np.exp(logprob).sum() * (c[ind] + 15) / 1000\n",
    "    if c[ind] >= 0:\n",
    "        signals.loc[ind, 'bet_size_GM'] = (F_c - F_0) / (1 - F_0)\n",
    "    else:\n",
    "        signals.loc[ind, 'bet_size_GM'] = (F_c - F_0) / F_0\n",
    "\n",
    "signals"
   ]
  },
  {
   "cell_type": "markdown",
   "metadata": {},
   "source": [
    "We can notice that bet sizes according to Gaussian mixture and method using concurrent bets agree on the side of the bet. However, GM produces bigger absolute bets meaning higher confidence in each bet."
   ]
  }
 ],
 "metadata": {
  "kernelspec": {
   "display_name": "Python 3",
   "language": "python",
   "name": "python3"
  },
  "language_info": {
   "codemirror_mode": {
    "name": "ipython",
    "version": 3
   },
   "file_extension": ".py",
   "mimetype": "text/x-python",
   "name": "python",
   "nbconvert_exporter": "python",
   "pygments_lexer": "ipython3",
   "version": "3.7.6"
  }
 },
 "nbformat": 4,
 "nbformat_minor": 4
}
