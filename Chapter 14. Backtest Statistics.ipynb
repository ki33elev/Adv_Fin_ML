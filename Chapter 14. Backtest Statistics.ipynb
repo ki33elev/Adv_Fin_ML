{
 "cells": [
  {
   "cell_type": "code",
   "execution_count": 151,
   "metadata": {},
   "outputs": [],
   "source": [
    "# imports\n",
    "\n",
    "import numpy as np\n",
    "import pandas as pd\n",
    "import matplotlib.pyplot as plt\n",
    "%matplotlib inline\n",
    "import seaborn as sns\n",
    "sns.set(palette='Set2')\n",
    "import plotly.graph_objects as go\n",
    "\n",
    "from typing import Tuple\n",
    "\n",
    "from scipy.stats import norm, skew, kurtosis\n",
    "\n",
    "import warnings\n",
    "warnings.filterwarnings('ignore')\n",
    "\n",
    "import nbimporter\n",
    "from Functions import get_dollar_bars"
   ]
  },
  {
   "cell_type": "markdown",
   "metadata": {},
   "source": [
    "## Auxilary Functions"
   ]
  },
  {
   "cell_type": "code",
   "execution_count": 152,
   "metadata": {},
   "outputs": [],
   "source": [
    "def get_bets_timing(tPos: pd.Series) -> pd.Index:\n",
    "    '''\n",
    "    Calculates the timestamps of flattening or flipping trades from target positions series.\n",
    "    \n",
    "    Parameters:\n",
    "        tPos (pd.Series): series with target positions\n",
    "        \n",
    "    Returns:\n",
    "        bets (pd.Index): bets timing\n",
    "    '''\n",
    "    df0 = tPos[tPos == 0].index\n",
    "    df1 = tPos.shift(1)\n",
    "    df1 = df1[df1 != 0].index\n",
    "    bets = df0.intersection(df1)    # flattening\n",
    "    df0 = tPos.iloc[1:] * tPos.iloc[:-1].values\n",
    "    bets = bets.union(df0[df0 < 0].index).sort_values()    # tPos flips\n",
    "    if tPos.index[-1] not in bets:\n",
    "        bets = bets.append(tPos.index[-1:])    # last bet\n",
    "    return bets"
   ]
  },
  {
   "cell_type": "code",
   "execution_count": 153,
   "metadata": {},
   "outputs": [],
   "source": [
    "def get_holding_period(tPos: pd.Series) -> float:\n",
    "    '''\n",
    "    Derives average holding period (in days) using average entry time pairing algo.\n",
    "    \n",
    "    Parameters:\n",
    "        tPos (pd.Series): series with target positions\n",
    "        \n",
    "    Returns:\n",
    "        hp (float): holding period\n",
    "    '''\n",
    "    hp, tEntry = pd.DataFrame(columns=['dT', 'w']), 0.0\n",
    "    pDiff, tDiff = tPos.diff(), (tPos.index - tPos.index[0]) / np.timedelta64(1, 'D')\n",
    "    for i in range(1, tPos.shape[0]):\n",
    "        if pDiff.iloc[i] * tPos.iloc[i - 1] >= 0:    # increased or unchanged\n",
    "            if tPos.iloc[i] != 0:\n",
    "                tEntry = (tEntry * tPos.iloc[i - 1] + tDiff[i] * pDiff.iloc[i]) / tPos.iloc[i]\n",
    "        else:    # decreased\n",
    "            if tPos.iloc[i] * tPos.iloc[i-1] < 0:    # flip\n",
    "                hp.loc[tPos.index[i], ['dT', 'w']] = (tDiff[i] - tEntry, abs(tPos.iloc[i - 1]))\n",
    "                tEntry = tDiff[i]    # reset entry time\n",
    "            else:\n",
    "                hp.loc[tPos.index[i], ['dT', 'w']] = (tDiff[i] - tEntry, abs(pDiff.iloc[i]))\n",
    "    if hp['w'].sum() > 0:\n",
    "        hp = (hp['dT'] * hp['w']).sum() / hp['w'].sum()\n",
    "    else:\n",
    "        hp = np.nan\n",
    "    return hp"
   ]
  },
  {
   "cell_type": "code",
   "execution_count": 154,
   "metadata": {},
   "outputs": [],
   "source": [
    "def get_HHI(betRet: pd.Series) -> float:\n",
    "    '''\n",
    "    Derives HHI concentration of returns (see p. 200 for definition). Returns can be divided into positive\n",
    "    and negative or you can calculate the concentration of bets across the months.\n",
    "    \n",
    "    Parameters:\n",
    "        betRet (pd.Series): series with bets returns\n",
    "        \n",
    "    Returns:\n",
    "        hhi (float): concentration\n",
    "    '''\n",
    "    if betRet.shape[0] <= 2:\n",
    "        return np.nan\n",
    "    wght = betRet / betRet.sum()\n",
    "    hhi = (wght ** 2).sum()\n",
    "    hhi = (hhi - betRet.shape[0] ** (-1)) / (1.0 - betRet.shape[0] ** (-1))\n",
    "    return hhi"
   ]
  },
  {
   "cell_type": "code",
   "execution_count": 155,
   "metadata": {},
   "outputs": [],
   "source": [
    "def compute_DD_TuW(series: pd.Series, dollars: bool = False) -> Tuple[pd.Series, pd.Series]:\n",
    "    '''\n",
    "     Computes series of drawdowns and the time under water associated with them.\n",
    "    \n",
    "    Parameters:\n",
    "        series (pd.Series): series with either returns (dollars=False) or dollar performance (dollar=True)\n",
    "        dollars (bool): indicator charachterizing series\n",
    "        \n",
    "    Returns:\n",
    "        dd (pd.Series): drawdown series\n",
    "        tuw (pd.Series): time under water series\n",
    "    '''\n",
    "    df0 = series.to_frame('pnl')\n",
    "    df0['hwm'] = series.expanding().max()\n",
    "    df1 = df0.groupby('hwm').min().reset_index()\n",
    "    df1.columns = ['hwm', 'min']\n",
    "    df1.index = df0['hwm'].drop_duplicates(keep='first').index    # time of hwm\n",
    "    df1 = df1[df1['hwm'] > df1['min']]    # hwm followed by a drawdown\n",
    "    if dollars:\n",
    "        dd = df1['hwm'] - df1['min']\n",
    "    else:\n",
    "        dd = 1 - df1['min'] / df1['hwm']\n",
    "    tuw = ((df1.index[1:] - df1.index[:-1]) / np.timedelta64(1, 'Y')).values    # in years\n",
    "    tuw = pd.Series(tuw, index=df1.index[:-1])\n",
    "    return dd, tuw"
   ]
  },
  {
   "cell_type": "markdown",
   "metadata": {},
   "source": [
    "## Exercises"
   ]
  },
  {
   "cell_type": "markdown",
   "metadata": {},
   "source": [
    "Here I use the clean dataset generated in Chapter 2. I transform it into dollar bars."
   ]
  },
  {
   "cell_type": "code",
   "execution_count": 156,
   "metadata": {},
   "outputs": [],
   "source": [
    "data = pd.read_csv('sp10-19.csv')\n",
    "# $50,000 per bar\n",
    "dollar_bars = get_dollar_bars(data['price'].values, data['volume'].values, data['datetime'].values, 50000)\n",
    "dollar_bars_df = pd.DataFrame(data=dollar_bars[:, 1:], index=dollar_bars[:, 0],\n",
    "                           columns=['open', 'high', 'low', 'close', 'volume'])\n",
    "dollar_bars_df = dollar_bars_df[~dollar_bars_df.index.duplicated(keep='first')]"
   ]
  },
  {
   "cell_type": "markdown",
   "metadata": {},
   "source": [
    "### 1. Compute Statistics, Long Only."
   ]
  },
  {
   "cell_type": "markdown",
   "metadata": {},
   "source": [
    "Here I assume that we simply long the contract for the whole period from 2010 to 2019. So the returns are simply the relative increase in bars close price:"
   ]
  },
  {
   "cell_type": "code",
   "execution_count": 157,
   "metadata": {},
   "outputs": [
    {
     "data": {
      "text/plain": [
       "2010-01-03 17:00:45.000            NaN\n",
       "2010-01-03 17:04:29.000    0.000179469\n",
       "2010-01-03 17:15:11.000     0.00053831\n",
       "2010-01-03 17:52:34.000      8.967e-05\n",
       "2010-01-03 18:47:00.000    0.000268986\n",
       "                              ...     \n",
       "2019-12-17 07:48:29.219    -0.00131324\n",
       "2019-12-18 08:11:34.083      0.0014402\n",
       "2019-12-20 08:11:47.600     0.00909773\n",
       "2019-12-24 07:26:30.124     0.00666109\n",
       "2019-12-30 08:08:53.765    -0.00763265\n",
       "Name: close, Length: 80799, dtype: object"
      ]
     },
     "execution_count": 157,
     "metadata": {},
     "output_type": "execute_result"
    }
   ],
   "source": [
    "returns = (dollar_bars_df['close'] - dollar_bars_df['close'].shift(1)) / dollar_bars_df['close'].shift(1)\n",
    "returns"
   ]
  },
  {
   "cell_type": "markdown",
   "metadata": {},
   "source": [
    "I also create a dataframe for storing all the statistics calculated further."
   ]
  },
  {
   "cell_type": "code",
   "execution_count": 158,
   "metadata": {},
   "outputs": [],
   "source": [
    "def get_stats(returns: pd.Series) -> pd.DataFrame:\n",
    "    returns = returns.dropna()\n",
    "    \n",
    "    dd, tuw = compute_DD_TuW(returns.dropna())\n",
    "    returns_per_year = returns.groupby(pd.Grouper(freq='Y')).count().mean()\n",
    "    skewness = skew(returns.dropna())\n",
    "    kurt = kurtosis(returns.dropna())\n",
    "    sr = returns.mean() / returns.std()\n",
    "    val = sr * np.sqrt(len(returns) - 1) / np.sqrt(1 - skewness * sr + (kurt - 1) / 4 * sr ** 2)\n",
    "    var, N, gamma = 0.5, 100, 0.5772\n",
    "    \n",
    "    hhi_pos = get_HHI(returns[returns >= 0])\n",
    "    hhi_pos = get_HHI(returns[returns >= 0])\n",
    "    hhi_time = get_HHI(returns.groupby(pd.Grouper(freq='M')).count())\n",
    "    dd_95 = np.quantile(dd, 0.95)\n",
    "    tuw_95 = np.quantile(tuw, 0.95)\n",
    "    ann_avr_ret = (returns + 1).prod() ** (0.1) - 1\n",
    "    avg_hit_ret = returns[returns >= 0].mean()\n",
    "    avg_miss_ret = returns[returns < 0].mean()\n",
    "    ann_sr = returns.mean() / returns.std() * returns_per_year ** 0.5\n",
    "    psr = norm.cdf(val)\n",
    "    dsr = np.sqrt(var) * ((1 - gamma) * norm.cdf(1 - 1 / N) ** (-1) +\n",
    "                          gamma * norm.cdf(1 - 1 / N * np.exp(1) ** (-1)) ** (-1))\n",
    "    \n",
    "    return pd.DataFrame(data={'statistics': ['HHI_pos', 'HHI_neg', 'HHI_time', 'DD_95th', 'TuW_95th',\n",
    "                                             'Annualized_Avg_Return', 'Avg_Hit_Return', 'Avg_Miss_Return',\n",
    "                                             'Ann_SR', 'PSR', 'DSR'],\n",
    "                              'value': [hhi_pos, hhi_neg, hhi_time, dd_95, tuw_95, ann_avr_ret,\n",
    "                                        avg_hit_ret, avg_miss_ret, ann_sr, psr, dsr]},\n",
    "                        dtype=object)"
   ]
  },
  {
   "cell_type": "code",
   "execution_count": 159,
   "metadata": {},
   "outputs": [
    {
     "data": {
      "text/html": [
       "<div>\n",
       "<style scoped>\n",
       "    .dataframe tbody tr th:only-of-type {\n",
       "        vertical-align: middle;\n",
       "    }\n",
       "\n",
       "    .dataframe tbody tr th {\n",
       "        vertical-align: top;\n",
       "    }\n",
       "\n",
       "    .dataframe thead th {\n",
       "        text-align: right;\n",
       "    }\n",
       "</style>\n",
       "<table border=\"1\" class=\"dataframe\">\n",
       "  <thead>\n",
       "    <tr style=\"text-align: right;\">\n",
       "      <th></th>\n",
       "      <th>statistics</th>\n",
       "      <th>value</th>\n",
       "    </tr>\n",
       "  </thead>\n",
       "  <tbody>\n",
       "    <tr>\n",
       "      <th>0</th>\n",
       "      <td>HHI_pos</td>\n",
       "      <td>8.21257e-05</td>\n",
       "    </tr>\n",
       "    <tr>\n",
       "      <th>1</th>\n",
       "      <td>HHI_neg</td>\n",
       "      <td>9.7649e-05</td>\n",
       "    </tr>\n",
       "    <tr>\n",
       "      <th>2</th>\n",
       "      <td>HHI_time</td>\n",
       "      <td>0.00595024</td>\n",
       "    </tr>\n",
       "    <tr>\n",
       "      <th>3</th>\n",
       "      <td>DD_95th</td>\n",
       "      <td>2.95174</td>\n",
       "    </tr>\n",
       "    <tr>\n",
       "      <th>4</th>\n",
       "      <td>TuW_95th</td>\n",
       "      <td>4.06383</td>\n",
       "    </tr>\n",
       "    <tr>\n",
       "      <th>5</th>\n",
       "      <td>Annualized_Avg_Return</td>\n",
       "      <td>0.112092</td>\n",
       "    </tr>\n",
       "    <tr>\n",
       "      <th>6</th>\n",
       "      <td>Avg_Hit_Return</td>\n",
       "      <td>0.000721879</td>\n",
       "    </tr>\n",
       "    <tr>\n",
       "      <th>7</th>\n",
       "      <td>Avg_Miss_Return</td>\n",
       "      <td>-0.000863072</td>\n",
       "    </tr>\n",
       "    <tr>\n",
       "      <th>8</th>\n",
       "      <td>Ann_SR</td>\n",
       "      <td>0.775973</td>\n",
       "    </tr>\n",
       "    <tr>\n",
       "      <th>9</th>\n",
       "      <td>PSR</td>\n",
       "      <td>0.992607</td>\n",
       "    </tr>\n",
       "    <tr>\n",
       "      <th>10</th>\n",
       "      <td>DSR</td>\n",
       "      <td>0.841993</td>\n",
       "    </tr>\n",
       "  </tbody>\n",
       "</table>\n",
       "</div>"
      ],
      "text/plain": [
       "               statistics        value\n",
       "0                 HHI_pos  8.21257e-05\n",
       "1                 HHI_neg   9.7649e-05\n",
       "2                HHI_time   0.00595024\n",
       "3                 DD_95th      2.95174\n",
       "4                TuW_95th      4.06383\n",
       "5   Annualized_Avg_Return     0.112092\n",
       "6          Avg_Hit_Return  0.000721879\n",
       "7         Avg_Miss_Return -0.000863072\n",
       "8                  Ann_SR     0.775973\n",
       "9                     PSR     0.992607\n",
       "10                    DSR     0.841993"
      ]
     },
     "execution_count": 159,
     "metadata": {},
     "output_type": "execute_result"
    }
   ],
   "source": [
    "get_stats(returns)"
   ]
  },
  {
   "cell_type": "markdown",
   "metadata": {},
   "source": [
    "### 2. Compute Statistics, Long on Even Years, Short on Odd Years."
   ]
  },
  {
   "cell_type": "markdown",
   "metadata": {},
   "source": [
    "Here we only have to redefine returns and use the same functions to calculate all the statistics."
   ]
  },
  {
   "cell_type": "code",
   "execution_count": 160,
   "metadata": {},
   "outputs": [
    {
     "data": {
      "text/plain": [
       "2010-01-03 17:00:45.000            NaN\n",
       "2010-01-03 17:04:29.000    0.000179469\n",
       "2010-01-03 17:15:11.000     0.00053831\n",
       "2010-01-03 17:52:34.000      8.967e-05\n",
       "2010-01-03 18:47:00.000    0.000268986\n",
       "                              ...     \n",
       "2019-12-17 07:48:29.219     0.00131324\n",
       "2019-12-18 08:11:34.083     -0.0014402\n",
       "2019-12-20 08:11:47.600    -0.00909773\n",
       "2019-12-24 07:26:30.124    -0.00666109\n",
       "2019-12-30 08:08:53.765     0.00763265\n",
       "Name: close, Length: 80799, dtype: object"
      ]
     },
     "execution_count": 160,
     "metadata": {},
     "output_type": "execute_result"
    }
   ],
   "source": [
    "returns_custom = returns.copy(deep=True)\n",
    "for ind in returns_custom.index:\n",
    "    if ind.year % 2 == 1:\n",
    "        returns_custom[ind] *= -1\n",
    "returns_custom"
   ]
  },
  {
   "cell_type": "code",
   "execution_count": 161,
   "metadata": {},
   "outputs": [
    {
     "data": {
      "text/html": [
       "<div>\n",
       "<style scoped>\n",
       "    .dataframe tbody tr th:only-of-type {\n",
       "        vertical-align: middle;\n",
       "    }\n",
       "\n",
       "    .dataframe tbody tr th {\n",
       "        vertical-align: top;\n",
       "    }\n",
       "\n",
       "    .dataframe thead th {\n",
       "        text-align: right;\n",
       "    }\n",
       "</style>\n",
       "<table border=\"1\" class=\"dataframe\">\n",
       "  <thead>\n",
       "    <tr style=\"text-align: right;\">\n",
       "      <th></th>\n",
       "      <th>statistics</th>\n",
       "      <th>value</th>\n",
       "    </tr>\n",
       "  </thead>\n",
       "  <tbody>\n",
       "    <tr>\n",
       "      <th>0</th>\n",
       "      <td>HHI_pos</td>\n",
       "      <td>9.19837e-05</td>\n",
       "    </tr>\n",
       "    <tr>\n",
       "      <th>1</th>\n",
       "      <td>HHI_neg</td>\n",
       "      <td>9.7649e-05</td>\n",
       "    </tr>\n",
       "    <tr>\n",
       "      <th>2</th>\n",
       "      <td>HHI_time</td>\n",
       "      <td>0.00595024</td>\n",
       "    </tr>\n",
       "    <tr>\n",
       "      <th>3</th>\n",
       "      <td>DD_95th</td>\n",
       "      <td>2.95442</td>\n",
       "    </tr>\n",
       "    <tr>\n",
       "      <th>4</th>\n",
       "      <td>TuW_95th</td>\n",
       "      <td>0.756247</td>\n",
       "    </tr>\n",
       "    <tr>\n",
       "      <th>5</th>\n",
       "      <td>Annualized_Avg_Return</td>\n",
       "      <td>-0.0461461</td>\n",
       "    </tr>\n",
       "    <tr>\n",
       "      <th>6</th>\n",
       "      <td>Avg_Hit_Return</td>\n",
       "      <td>0.000713706</td>\n",
       "    </tr>\n",
       "    <tr>\n",
       "      <th>7</th>\n",
       "      <td>Avg_Miss_Return</td>\n",
       "      <td>-0.000870762</td>\n",
       "    </tr>\n",
       "    <tr>\n",
       "      <th>8</th>\n",
       "      <td>Ann_SR</td>\n",
       "      <td>-0.235333</td>\n",
       "    </tr>\n",
       "    <tr>\n",
       "      <th>9</th>\n",
       "      <td>PSR</td>\n",
       "      <td>0.228376</td>\n",
       "    </tr>\n",
       "    <tr>\n",
       "      <th>10</th>\n",
       "      <td>DSR</td>\n",
       "      <td>0.841993</td>\n",
       "    </tr>\n",
       "  </tbody>\n",
       "</table>\n",
       "</div>"
      ],
      "text/plain": [
       "               statistics        value\n",
       "0                 HHI_pos  9.19837e-05\n",
       "1                 HHI_neg   9.7649e-05\n",
       "2                HHI_time   0.00595024\n",
       "3                 DD_95th      2.95442\n",
       "4                TuW_95th     0.756247\n",
       "5   Annualized_Avg_Return   -0.0461461\n",
       "6          Avg_Hit_Return  0.000713706\n",
       "7         Avg_Miss_Return -0.000870762\n",
       "8                  Ann_SR    -0.235333\n",
       "9                     PSR     0.228376\n",
       "10                    DSR     0.841993"
      ]
     },
     "execution_count": 161,
     "metadata": {},
     "output_type": "execute_result"
    }
   ],
   "source": [
    "get_stats(returns_custom)"
   ]
  },
  {
   "cell_type": "markdown",
   "metadata": {},
   "source": [
    "I also plot the cumulative return of both strategies to see how they performed over the decade:"
   ]
  },
  {
   "cell_type": "code",
   "execution_count": 162,
   "metadata": {},
   "outputs": [
    {
     "data": {
      "image/png": "[encoded data removed]",
      "text/plain": [
       "<Figure size 1008x576 with 1 Axes>"
      ]
     },
     "metadata": {},
     "output_type": "display_data"
    }
   ],
   "source": [
    "fig, ax = plt.subplots(figsize=(14, 8))\n",
    "ax.plot((1 + returns).cumprod(), color='blue', label='Strategy 1 (Long)')\n",
    "ax.plot((1 + returns_custom).cumprod(), color='red', label='Strategy 2 (Long + Short)')\n",
    "ax.set_xlabel('Time')\n",
    "ax.set_ylabel('Cumulative return')\n",
    "ax.set_title('Strategies\\' dynamics')\n",
    "ax.legend(loc='best')\n",
    "plt.show()"
   ]
  }
 ],
 "metadata": {
  "kernelspec": {
   "display_name": "Python 3",
   "language": "python",
   "name": "python3"
  },
  "language_info": {
   "codemirror_mode": {
    "name": "ipython",
    "version": 3
   },
   "file_extension": ".py",
   "mimetype": "text/x-python",
   "name": "python",
   "nbconvert_exporter": "python",
   "pygments_lexer": "ipython3",
   "version": "3.7.6"
  }
 },
 "nbformat": 4,
 "nbformat_minor": 4
}
